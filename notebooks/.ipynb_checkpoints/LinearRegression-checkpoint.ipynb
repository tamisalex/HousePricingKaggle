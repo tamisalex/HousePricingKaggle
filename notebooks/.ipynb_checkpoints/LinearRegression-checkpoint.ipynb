{
 "cells": [
  {
   "cell_type": "code",
   "execution_count": 4,
   "metadata": {
    "collapsed": false
   },
   "outputs": [],
   "source": [
    "import pandas as pd \n",
    "import matplotlib.pyplot as plt\n",
    "import numpy as np\n",
    "import sklearn as sk \n",
    "import sqlalchemy\n",
    "import seaborn as sns\n",
    "from sklearn.pipeline import make_pipeline, Pipeline\n",
    "from sklearn.linear_model import LinearRegression\n",
    "from sklearn.preprocessing import FunctionTransformer, LabelEncoder, MinMaxScaler, StandardScaler\n",
    "from sklearn.decomposition import PCA\n",
    "from sklearn.base import TransformerMixin\n",
    "from sklearn.grid_search import GridSearchCV\n",
    "from sklearn.ensemble import GradientBoostingRegressor,AdaBoostRegressor, RandomForestClassifier, RandomForestRegressor\n",
    "from sklearn.tree import DecisionTreeRegressor\n",
    "from sklearn.cross_validation import train_test_split, cross_val_score, KFold\n",
    "\n",
    "%matplotlib inline"
   ]
  },
  {
   "cell_type": "code",
   "execution_count": 31,
   "metadata": {
    "collapsed": false
   },
   "outputs": [],
   "source": [
    "def convertNA(value):\n",
    "    try:\n",
    "        if np.isnan(value):\n",
    "            return \"None\"\n",
    "        else:\n",
    "            return value\n",
    "    except:\n",
    "        return value"
   ]
  },
  {
   "cell_type": "code",
   "execution_count": 32,
   "metadata": {
    "collapsed": false
   },
   "outputs": [],
   "source": [
    "train  = pd.read_csv(\"../assets/train.csv\")\n",
    "test = pd.read_csv(\"../assets/test.csv\")\n",
    "\n",
    "all_data = pd.concat((train.loc[:,'MSSubClass':'SaleCondition'],\n",
    "                      test.loc[:,'MSSubClass':'SaleCondition']))\n",
    "\n",
    "categories = [u\"Alley\",\"Fence\",\"PoolQC\",\"GarageCond\",\"GarageQual\",\"GarageFinish\",\"MiscFeature\",\"GarageType\",\"FireplaceQu\",\"BsmtFinType2\",\"BsmtFinType1\",\"BsmtCond\",\"BsmtQual\"]\n",
    "for column in categories:\n",
    "    all_data[column] = all_data[column].apply(convertNA)\n",
    "\n",
    "all_data.fillna(all_data.mean(),inplace=True)\n",
    "\n",
    "all_data = pd.get_dummies(all_data)\n",
    "\n",
    "X = all_data.iloc[:1460,:]\n",
    "X_test = all_data.iloc[1460:,:]\n",
    "y = train[\"SalePrice\"]"
   ]
  },
  {
   "cell_type": "code",
   "execution_count": 41,
   "metadata": {
    "collapsed": false,
    "scrolled": false
   },
   "outputs": [],
   "source": [
    "# for columns in all_data.columns:\n",
    "#     print columns"
   ]
  },
  {
   "cell_type": "code",
   "execution_count": 33,
   "metadata": {
    "collapsed": false
   },
   "outputs": [
    {
     "data": {
      "text/plain": [
       "array([ 0.76034888,  0.74085025,  0.53245329])"
      ]
     },
     "execution_count": 33,
     "metadata": {},
     "output_type": "execute_result"
    }
   ],
   "source": [
    "cv = KFold(len(y),shuffle=False)\n",
    "\n",
    "dt = DecisionTreeRegressor(random_state=5)\n",
    "dtScore = cross_val_score(dt,X,y, cv=cv, n_jobs=-1)\n",
    "dtScore"
   ]
  },
  {
   "cell_type": "code",
   "execution_count": 34,
   "metadata": {
    "collapsed": false
   },
   "outputs": [
    {
     "data": {
      "text/plain": [
       "array([ 0.86873218,  0.82449725,  0.80051806])"
      ]
     },
     "execution_count": 34,
     "metadata": {},
     "output_type": "execute_result"
    }
   ],
   "source": [
    "rf = RandomForestRegressor(random_state=5)\n",
    "rfScore = cross_val_score(rf,X,y,cv=cv, n_jobs=-1)\n",
    "model = rf.fit(X,y)\n",
    "predictions = model.predict(X)\n",
    "rfScore"
   ]
  },
  {
   "cell_type": "code",
   "execution_count": 35,
   "metadata": {
    "collapsed": false
   },
   "outputs": [
    {
     "data": {
      "text/plain": [
       "array([ 0.84804748,  0.8037326 ,  0.72073568])"
      ]
     },
     "execution_count": 35,
     "metadata": {},
     "output_type": "execute_result"
    }
   ],
   "source": [
    "ab = AdaBoostRegressor(random_state=5)\n",
    "abScore = cross_val_score(ab,X,y,cv=cv,n_jobs=-1)\n",
    "abScore"
   ]
  },
  {
   "cell_type": "code",
   "execution_count": 36,
   "metadata": {
    "collapsed": false
   },
   "outputs": [
    {
     "data": {
      "text/plain": [
       "array([ 0.84804748,  0.8037326 ,  0.72073568])"
      ]
     },
     "execution_count": 36,
     "metadata": {},
     "output_type": "execute_result"
    }
   ],
   "source": [
    "gb = GradientBoostingRegressor(random_state=5)\n",
    "gbScore = cross_val_score(ab,X,y,cv=cv,n_jobs=-1)\n",
    "gbScore"
   ]
  },
  {
   "cell_type": "code",
   "execution_count": 37,
   "metadata": {
    "collapsed": false
   },
   "outputs": [
    {
     "name": "stdout",
     "output_type": "stream",
     "text": [
      "Decision Tree Score: 0.677884\n",
      "Random Forest Score: 0.831249\n",
      "AdaBoost Score: 0.790839\n",
      "Gradient Boost Score: 0.790839\n"
     ]
    }
   ],
   "source": [
    "print \"Decision Tree Score: %f\" % dtScore.mean()\n",
    "print \"Random Forest Score: %f\" % rfScore.mean()\n",
    "print \"AdaBoost Score: %f\" % abScore.mean()\n",
    "print \"Gradient Boost Score: %f\" % gbScore.mean()"
   ]
  },
  {
   "cell_type": "code",
   "execution_count": 38,
   "metadata": {
    "collapsed": false
   },
   "outputs": [],
   "source": [
    "model = rf.fit(X,y)\n",
    "predictions = model.predict(X_test)"
   ]
  },
  {
   "cell_type": "code",
   "execution_count": 39,
   "metadata": {
    "collapsed": false
   },
   "outputs": [],
   "source": [
    "submission = pd.DataFrame()\n",
    "submission[\"Id\"] = test[\"Id\"]\n",
    "submission[\"SalePrice\"] = predictions\n",
    "submission.to_csv(\"../assets/submission.csv\", index=False)"
   ]
  },
  {
   "cell_type": "code",
   "execution_count": null,
   "metadata": {
    "collapsed": true
   },
   "outputs": [],
   "source": []
  },
  {
   "cell_type": "code",
   "execution_count": null,
   "metadata": {
    "collapsed": true
   },
   "outputs": [],
   "source": []
  }
 ],
 "metadata": {
  "anaconda-cloud": {},
  "kernelspec": {
   "display_name": "Python [Root]",
   "language": "python",
   "name": "Python [Root]"
  },
  "language_info": {
   "codemirror_mode": {
    "name": "ipython",
    "version": 2
   },
   "file_extension": ".py",
   "mimetype": "text/x-python",
   "name": "python",
   "nbconvert_exporter": "python",
   "pygments_lexer": "ipython2",
   "version": "2.7.12"
  }
 },
 "nbformat": 4,
 "nbformat_minor": 0
}
