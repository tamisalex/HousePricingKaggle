{
 "cells": [
  {
   "cell_type": "code",
<<<<<<< HEAD:notebooks/Exploration2.ipynb
   "execution_count": 47,
=======
   "execution_count": 66,
>>>>>>> master:notebooks/Exploraton.ipynb
   "metadata": {
    "collapsed": false
   },
   "outputs": [],
   "source": [
    "import pandas as pd \n",
    "import matplotlib.pyplot as plt\n",
    "import numpy as np\n",
    "import sklearn as sk \n",
    "import sqlalchemy\n",
    "import seaborn as sns\n",
    "from sklearn.pipeline import make_pipeline, Pipeline\n",
    "from sklearn.linear_model import LinearRegression\n",
    "from sklearn.preprocessing import FunctionTransformer, LabelEncoder, MinMaxScaler, StandardScaler\n",
    "from sklearn.decomposition import PCA\n",
    "from sklearn.base import TransformerMixin\n",
    "from sklearn.grid_search import GridSearchCV\n",
    "from sklearn.ensemble import GradientBoostingRegressor,AdaBoostRegressor, RandomForestClassifier, RandomForestRegressor\n",
    "from sklearn.tree import DecisionTreeRegressor\n",
    "from sklearn.cross_validation import train_test_split, cross_val_score, KFold\n",
<<<<<<< HEAD:notebooks/Exploration2.ipynb
    "from sklearn import metrics\n",
    "import math\n",
    "\n",
    "import xgboost as xgb\n",
    "\n",
=======
>>>>>>> master:notebooks/Exploraton.ipynb
    "\n",
    "%matplotlib inline"
   ]
  },
  {
   "cell_type": "code",
<<<<<<< HEAD:notebooks/Exploration2.ipynb
   "execution_count": 48,
=======
   "execution_count": 67,
>>>>>>> master:notebooks/Exploraton.ipynb
   "metadata": {
    "collapsed": false
   },
   "outputs": [],
   "source": [
    "def convertNA(alleys):\n",
    "    try:\n",
    "        if np.isnan(alleys):\n",
    "            #print \"Yes\"\n",
    "            return \"None\"\n",
    "        else:\n",
    "            #print \"No\"\n",
    "            return alleys\n",
    "    except:\n",
    "        #print \"No\"\n",
    "        return alleys"
   ]
  },
  {
   "cell_type": "code",
<<<<<<< HEAD:notebooks/Exploration2.ipynb
   "execution_count": 3,
=======
   "execution_count": 68,
>>>>>>> master:notebooks/Exploraton.ipynb
   "metadata": {
    "collapsed": false
   },
   "outputs": [],
   "source": [
    "train  = pd.read_csv(\"../assets/train.csv\")\n",
    "test = pd.read_csv(\"../assets/test.csv\")\n",
    "\n",
    "del train[\"Id\"]\n",
    "testids = test[\"Id\"]\n",
    "del test[\"Id\"]\n",
    "\n",
    "fixColumns = [\"Alley\",\"Fence\",\"PoolQC\",\"GarageCond\",\"GarageQual\",\"GarageFinish\",\"MiscFeature\",\"GarageType\",\"FireplaceQu\",\"BsmtFinType2\",\"BsmtFinType1\",\"BsmtCond\",\"BsmtQual\"]\n",
    "for column in fixColumns:\n",
    "    train[column] = train[column].apply(convertNA)\n",
    "for column in fixColumns:\n",
    "    test[column] = test[column].apply(convertNA)\n",
    "\n",
    "#train.dropna(inplace=True)\n",
    "#test.dropna(inplace=True)\n",
    "\n",
    "train.fillna(train.median(),inplace=True)\n",
    "test.fillna(test.median(),inplace=True)\n",
    "\n",
    "y = train[\"SalePrice\"]\n",
    "del train[\"SalePrice\"]\n",
    "X = train\n",
    "X_test = test\n"
   ]
  },
  {
   "cell_type": "code",
<<<<<<< HEAD:notebooks/Exploration2.ipynb
   "execution_count": 4,
=======
   "execution_count": 69,
>>>>>>> master:notebooks/Exploraton.ipynb
   "metadata": {
    "collapsed": true
   },
   "outputs": [],
   "source": [
    "class MultiColumnLabelEncoder(TransformerMixin):\n",
    "    def __init__(self,columns = None):\n",
    "        self.columns = columns # array of column names to encode\n",
    "\n",
    "    def fit(self,X,y=None):\n",
    "        return self # not relevant here\n",
    "\n",
    "    def transform(self,X):\n",
    "        '''\n",
    "        Transforms columns of X specified in self.columns using\n",
    "        LabelEncoder(). If no columns specified, transforms all\n",
    "        columns in X.\n",
    "        '''\n",
    "        output = pd.DataFrame(X,columns=self.columns)\n",
    "        #print output.head()\n",
    "        if self.columns is not None:\n",
    "            for col in self.columns:\n",
    "                output[col] = LabelEncoder().fit_transform(output[col])\n",
    "        else:\n",
    "            for colname,col in output.iteritems():\n",
    "                if(output[colname].dtype == \"object\"):\n",
    "                    output[colname] = LabelEncoder().fit_transform(col)\n",
    "                else:\n",
    "                    output[colname] = col\n",
    "        return output\n",
    "\n",
    "    def fit_transform(self,X,y=None):\n",
    "        return self.fit(X,y).transform(X)"
   ]
  },
  {
   "cell_type": "code",
<<<<<<< HEAD:notebooks/Exploration2.ipynb
   "execution_count": 5,
=======
   "execution_count": 70,
>>>>>>> master:notebooks/Exploraton.ipynb
   "metadata": {
    "collapsed": false
   },
   "outputs": [],
   "source": [
    "mcle = MultiColumnLabelEncoder()\n",
    "#ss = StandardScaler()\n",
    "lr = LinearRegression()\n",
    "\n",
    "#pipe = Pipeline([('mcle',mcle),('ss', ss)])"
   ]
  },
  {
   "cell_type": "code",
<<<<<<< HEAD:notebooks/Exploration2.ipynb
   "execution_count": 86,
=======
   "execution_count": 71,
>>>>>>> master:notebooks/Exploraton.ipynb
   "metadata": {
    "collapsed": false
   },
   "outputs": [
    {
     "data": {
      "text/plain": [
       "0.85276108667325767"
      ]
     },
<<<<<<< HEAD:notebooks/Exploration2.ipynb
     "execution_count": 86,
=======
     "execution_count": 71,
>>>>>>> master:notebooks/Exploraton.ipynb
     "metadata": {},
     "output_type": "execute_result"
    }
   ],
   "source": [
    "output = mcle.fit_transform(X)\n",
    "#output\n",
    "#output = ss.fit_transform(output)\n",
    "model = lr.fit(output,y)\n",
    "predictions = model.predict(X)\n",
    "model.score(X,y)"
   ]
  },
  {
   "cell_type": "code",
   "execution_count": 72,
   "metadata": {
    "collapsed": true
   },
   "outputs": [],
   "source": [
    "ouput = mcle.fit_transform(X_test)"
   ]
  },
  {
   "cell_type": "code",
   "execution_count": 73,
   "metadata": {
    "collapsed": false
   },
   "outputs": [],
   "source": [
    "dtr = DecisionTreeRegressor()\n",
    "model = dtr.fit(X,y)\n",
    "predictions = model.predict(ouput)"
   ]
  },
  {
   "cell_type": "code",
   "execution_count": 74,
   "metadata": {
    "collapsed": true
   },
   "outputs": [],
   "source": [
    "submission = pd.DataFrame()"
   ]
  },
  {
   "cell_type": "code",
   "execution_count": 75,
   "metadata": {
    "collapsed": false
   },
   "outputs": [],
   "source": [
    "submission[\"Id\"] = testids\n",
    "submission[\"SalePrice\"] = predictions"
   ]
  },
  {
   "cell_type": "code",
   "execution_count": 76,
   "metadata": {
    "collapsed": false
   },
   "outputs": [],
   "source": [
    "#submission.to_csv(\"../assets/submission.csv\", index=False)"
   ]
  },
  {
   "cell_type": "code",
   "execution_count": 77,
   "metadata": {
    "collapsed": false
   },
   "outputs": [
    {
     "data": {
      "text/plain": [
       "array([ 0.75770396,  0.76075465,  0.50867169])"
      ]
     },
     "execution_count": 77,
     "metadata": {},
     "output_type": "execute_result"
    }
   ],
   "source": [
    "cv = KFold(len(y),shuffle=False)\n",
    "\n",
<<<<<<< HEAD:notebooks/Exploration2.ipynb
    "testDF = testDF[testDF.Id != np.NaN]\n",
    "testDF = testDF.iloc[:-1,:]\n",
    "\n",
    "testDF"
=======
    "dt = DecisionTreeRegressor(random_state=5)\n",
    "dtScore = cross_val_score(dt,X,y, cv=cv, n_jobs=-1)\n",
    "dtScore"
   ]
  },
  {
   "cell_type": "code",
   "execution_count": 78,
   "metadata": {
    "collapsed": false
   },
   "outputs": [
    {
     "data": {
      "text/plain": [
       "array([ 0.87069465,  0.83087723,  0.78898997])"
      ]
     },
     "execution_count": 78,
     "metadata": {},
     "output_type": "execute_result"
    }
   ],
   "source": [
    "rf = RandomForestRegressor(random_state=5)\n",
    "rfScore = cross_val_score(rf,X,y,cv=cv, n_jobs=-1)\n",
    "rfScore"
   ]
  },
  {
   "cell_type": "code",
   "execution_count": 79,
   "metadata": {
    "collapsed": false
   },
   "outputs": [
    {
     "data": {
      "text/plain": [
       "array([ 0.8489448 ,  0.80014323,  0.73189558])"
      ]
     },
     "execution_count": 79,
     "metadata": {},
     "output_type": "execute_result"
    }
   ],
   "source": [
    "ab = AdaBoostRegressor(random_state=5)\n",
    "abScore = cross_val_score(ab,X,y,cv=cv,n_jobs=-1)\n",
    "abScore"
   ]
  },
  {
   "cell_type": "code",
   "execution_count": 80,
   "metadata": {
    "collapsed": false
   },
   "outputs": [
    {
     "data": {
      "text/plain": [
       "array([ 0.8489448 ,  0.80014323,  0.73189558])"
      ]
     },
     "execution_count": 80,
     "metadata": {},
     "output_type": "execute_result"
    }
   ],
   "source": [
    "gb = GradientBoostingRegressor(random_state=5)\n",
    "gbScore = cross_val_score(ab,X,y,cv=cv,n_jobs=-1)\n",
    "gbScore"
   ]
  },
  {
   "cell_type": "code",
   "execution_count": 81,
   "metadata": {
    "collapsed": false
   },
   "outputs": [
    {
     "name": "stdout",
     "output_type": "stream",
     "text": [
      "Decision Tree Score: 0.675710\n",
      "Random Forest Score: 0.830187\n",
      "AdaBoost Score: 0.793661\n",
      "Gradient Boost Score: 0.793661\n"
     ]
    }
   ],
   "source": [
    "print \"Decision Tree Score: %f\" % dtScore.mean()\n",
    "print \"Random Forest Score: %f\" % rfScore.mean()\n",
    "print \"AdaBoost Score: %f\" % abScore.mean()\n",
    "print \"Gradient Boost Score: %f\" % gbScore.mean()"
   ]
  },
  {
   "cell_type": "markdown",
   "metadata": {},
   "source": [
    "### fillna median\n",
    "1. Decision Tree Score: 0.675710\n",
    "2. Random Forest Score: 0.830187\n",
    "3. AdaBoost Score: 0.793661\n",
    "4. Gradient Boost Score: 0.793661"
>>>>>>> master:notebooks/Exploraton.ipynb
   ]
  },
  {
   "cell_type": "markdown",
   "metadata": {},
   "source": [
    "### fillna mean\n",
    "1. Decision Tree Score: 0.704135\n",
    "2. Random Forest Score: 0.840518\n",
    "3. AdaBoost Score: 0.795396\n",
    "4. Gradient Boost Score: 0.795396"
   ]
  },
  {
   "cell_type": "code",
   "execution_count": 82,
   "metadata": {
    "collapsed": true
   },
   "outputs": [],
   "source": [
    "model = rf.fit(X,y)\n",
    "predictions = model.predict(ouput)"
   ]
  },
  {
   "cell_type": "code",
<<<<<<< HEAD:notebooks/Exploration2.ipynb
   "execution_count": 69,
=======
   "execution_count": 83,
>>>>>>> master:notebooks/Exploraton.ipynb
   "metadata": {
    "collapsed": false
   },
   "outputs": [],
   "source": [
<<<<<<< HEAD:notebooks/Exploration2.ipynb
    "def modelfit(alg, dtrain, dtest, predictors, target, useTrainCV=True, cv_folds=5, early_stopping_rounds=50):\n",
    "    \n",
    "    if useTrainCV:\n",
    "        xgb_param = alg.get_xgb_params()\n",
    "        xgtrain = xgb.DMatrix(dtrain[predictors].values, label=dtrain[target].values)\n",
    "        cvresult = xgb.cv(xgb_param, xgtrain, num_boost_round=alg.get_params()['n_estimators'], nfold=cv_folds,\n",
    "            metrics='rmse', early_stopping_rounds=early_stopping_rounds)\n",
    "        alg.set_params(n_estimators=cvresult.shape[0])\n",
    "    \n",
    "    #Fit the algorithm on the data\n",
    "    alg.fit(dtrain[predictors], dtrain[target],eval_metric='rmse')\n",
    "        \n",
    "    #Predict training set:\n",
    "    dtrain_predictions = alg.predict(dtrain[predictors])\n",
    "    dtest_predictions = alg.predict(dtest[predictors])\n",
    "    \n",
    "    #dtrain_predprob = alg.predict_proba(dtrain[predictors])[:,1]\n",
    "    \n",
    "    \n",
    "    #Print model report:\n",
    "    print \"\\nModel Report\"\n",
    "    #print \"Accuracy : %.4g\" % metrics.accuracy_score(dtrain['SalePrice'].values.astype(float), dtrain_predictions.astype(float))\n",
    "    #print \"AUC Score (Train): %f\" % metrics.roc_auc_score(dtrain['SalePrice'], dtrain_predprob)\n",
    "    print \"RMSLE: \", np.sqrt(metrics.mean_squared_error(np.log1p(dtrain[\"SalePrice\"]),np.log1p(dtrain_predictions)))\n",
    "    print \"Score: \", metrics.r2_score(dtrain[\"SalePrice\"],dtrain_predictions)\n",
    "    print \"Test Score: \", metrics.r2_score(dtest[\"SalePrice\"],dtest_predictions)\n",
    "    feat_imp = pd.Series(alg.booster().get_fscore()).sort_values(ascending=False)\n",
    "    feat_imp.plot(kind='bar', title='Feature Importances')\n",
    "    plt.ylabel('Feature Importance Score')\n",
    "    \n",
    "    submission = pd.DataFrame()\n",
    "    \n",
    "    submission[\"Id\"] = dtest[\"Id\"].values.astype(int)\n",
    "    submission[\"SalePrice\"] = dtest_predictions\n",
    "    \n",
    "    print submission\n",
    "\n",
    "    submission.to_csv(\"../assets/submission.csv\", index=False)\n",
    "    "
=======
    "submission[\"Id\"] = testids\n",
    "submission[\"SalePrice\"] = predictions"
   ]
  },
  {
   "cell_type": "code",
   "execution_count": 84,
   "metadata": {
    "collapsed": false
   },
   "outputs": [],
   "source": [
    "#submission.to_csv(\"../assets/submission.csv\", index=False)"
>>>>>>> master:notebooks/Exploraton.ipynb
   ]
  },
  {
   "cell_type": "code",
<<<<<<< HEAD:notebooks/Exploration2.ipynb
   "execution_count": 115,
   "metadata": {
    "collapsed": false
   },
   "outputs": [],
   "source": [
    "def xgfit(alg, xtrain, ytrain, xtest, ytest, dtrain, dtest, useTrainCV=True, cv_folds=5, early_stopping_rounds=50):\n",
    "    \n",
    "    if useTrainCV:\n",
    "        xgb_param = alg.get_xgb_params()\n",
    "        xgtrain = xgb.DMatrix(xtrain, label=ytrain)\n",
    "        cvresult = xgb.cv(xgb_param, xgtrain, num_boost_round=alg.get_params()['n_estimators'], nfold=cv_folds,\n",
    "            metrics='rmse', early_stopping_rounds=early_stopping_rounds)\n",
    "        alg.set_params(n_estimators=cvresult.shape[0])\n",
    "    \n",
    "    #Fit the algorithm on the data\n",
    "    alg.fit(xtrain, ytrain,eval_metric='rmse')\n",
    "        \n",
    "    #Predict training set:\n",
    "    dtrain_predictions = alg.predict(xtrain)\n",
    "    dtest_predictions = alg.predict(xtest)\n",
    "    wholetest = alg.predict(dtest[predictors].values)\n",
    "    \n",
    "    #dtrain_predprob = alg.predict_proba(dtrain[predictors])[:,1]\n",
    "    \n",
    "    \n",
    "    #Print model report:\n",
    "    print \"\\nModel Report\"\n",
    "    #print \"Accuracy : %.4g\" % metrics.accuracy_score(dtrain['SalePrice'].values.astype(float), dtrain_predictions.astype(float))\n",
    "    #print \"AUC Score (Train): %f\" % metrics.roc_auc_score(dtrain['SalePrice'], dtrain_predprob)\n",
    "    print \"RMSLE: \", np.sqrt(metrics.mean_squared_error(np.log1p(dtrain_predictions),np.log1p(ytrain)))\n",
    "    print \"Test RMSLE: \", np.sqrt(metrics.mean_squared_error(np.log1p(dtest_predictions),np.log1p(ytest)))\n",
    "    print \"Score: \", metrics.r2_score(ytrain,dtrain_predictions)\n",
    "    print \"Test Score: \", metrics.r2_score(ytest,dtest_predictions)\n",
    "    feat_imp = pd.Series(alg.booster().get_fscore()).sort_values(ascending=False)\n",
    "    feat_imp.plot(kind='bar', title='Feature Importances')\n",
    "    plt.ylabel('Feature Importance Score')\n",
    "    \n",
    "    submission = pd.DataFrame()\n",
    "    \n",
    "    submission[\"Id\"] = dtest[\"Id\"].values.astype(int)\n",
    "    submission[\"SalePrice\"] = wholetest\n",
    "    \n",
    "    #print submission\n",
    "\n",
    "    submission.to_csv(\"../assets/submission.csv\", index=False)\n",
    "    "
   ]
  },
  {
   "cell_type": "code",
   "execution_count": 116,
=======
   "execution_count": 101,
>>>>>>> master:notebooks/Exploraton.ipynb
   "metadata": {
    "collapsed": false
   },
   "outputs": [],
   "source": [
    "PARAMETERS = {'max_depth':[1,2,3,4,5,6], 'max_features':range(4,20), 'max_leaf_nodes':range(9,20), 'min_samples_leaf':[1,2,3,4],'min_samples_split':range(4,20)}"
   ]
  },
  {
   "cell_type": "code",
   "execution_count": 102,
   "metadata": {
    "collapsed": true
   },
   "outputs": [],
   "source": [
    "SCORING = 'mean_squared_error'"
   ]
  },
  {
   "cell_type": "code",
   "execution_count": null,
   "metadata": {
    "collapsed": false
   },
   "outputs": [
    {
     "name": "stdout",
     "output_type": "stream",
     "text": [
<<<<<<< HEAD:notebooks/Exploration2.ipynb
      "\n",
      "Model Report\n",
      "RMSLE:  0.0724340989598\n",
      "Test RMSLE:  0.132386108166\n",
      "Score:  0.967388814052\n",
      "Test Score:  0.913666292735\n"
     ]
    },
    {
     "data": {
      "image/png": "iVBORw0KGgoAAAANSUhEUgAAAYYAAAEPCAYAAABGP2P1AAAABHNCSVQICAgIfAhkiAAAAAlwSFlz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\nTkSuQmCC\n",
      "text/plain": [
       "<matplotlib.figure.Figure at 0x119102e10>"
      ]
     },
     "metadata": {},
     "output_type": "display_data"
    }
   ],
   "source": [
    "predictors = [x for x in trainDF.columns if x not in [target, IDcol]]\n",
    "xgb1 = xgb.XGBRegressor(\n",
    " learning_rate =0.1,\n",
    " n_estimators=1000,\n",
    " max_depth=7,\n",
    " min_child_weight=5,\n",
    " gamma=0,\n",
    " subsample=0.6,\n",
    " colsample_bytree=0.6,\n",
    " objective= 'reg:linear',\n",
    " nthread=4,\n",
    " scale_pos_weight=1,\n",
    " seed=27)\n",
    "\n",
    "X_train, X_test, y_train, y_test = train_test_split(trainDF[predictors].values, trainDF[target].values, test_size=0.3, random_state=42)\n",
    "\n",
    "model = xgfit(xgb1, X_train, y_train, X_test, y_test, trainDF, testDF)\n",
    "\n",
    "\n",
    "# Model Report\n",
    "# Score:  0.976768719611\n",
    "# Test Score:  0.911333479778\n",
    "\n",
    "# Model Report\n",
    "# Score:  0.984895516895\n",
    "# Test Score:  0.915703601912"
=======
      "Fitting 3 folds for each of 67584 candidates, totalling 202752 fits\n"
     ]
    },
    {
     "name": "stderr",
     "output_type": "stream",
     "text": [
      "[Parallel(n_jobs=-1)]: Done  76 tasks      | elapsed:    1.7s\n",
      "[Parallel(n_jobs=-1)]: Done 376 tasks      | elapsed:    7.6s\n",
      "[Parallel(n_jobs=-1)]: Done 876 tasks      | elapsed:   17.3s\n",
      "[Parallel(n_jobs=-1)]: Done 1576 tasks      | elapsed:   31.2s\n",
      "[Parallel(n_jobs=-1)]: Done 2476 tasks      | elapsed:   49.2s\n"
     ]
    }
   ],
   "source": [
    "model = DecisionTreeRegressor()\n",
    "clf = GridSearchCV(rf, PARAMETERS, scoring=SCORING, verbose=True, n_jobs=-1)\n",
    "clf.fit(X,y)\n",
    "\n",
    "print clf.best_estimator_\n",
    "print clf.best_score_\n",
    "print np.sqrt(-clf.best_score_)"
>>>>>>> master:notebooks/Exploraton.ipynb
   ]
  },
  {
   "cell_type": "code",
<<<<<<< HEAD:notebooks/Exploration2.ipynb
   "execution_count": 117,
=======
   "execution_count": 96,
>>>>>>> master:notebooks/Exploraton.ipynb
   "metadata": {
    "collapsed": true
   },
   "outputs": [],
   "source": [
<<<<<<< HEAD:notebooks/Exploration2.ipynb
    "X = trainDF[predictors].values\n",
    "y = trainDF[target].values"
   ]
  },
  {
   "cell_type": "code",
   "execution_count": 118,
   "metadata": {
    "collapsed": false
   },
   "outputs": [
    {
     "data": {
      "text/plain": [
       "([mean: 0.87849, std: 0.03418, params: {'max_depth': 3, 'min_child_weight': 1},\n",
       "  mean: 0.88055, std: 0.02984, params: {'max_depth': 3, 'min_child_weight': 3},\n",
       "  mean: 0.87269, std: 0.03142, params: {'max_depth': 3, 'min_child_weight': 5},\n",
       "  mean: 0.88082, std: 0.03092, params: {'max_depth': 5, 'min_child_weight': 1},\n",
       "  mean: 0.88627, std: 0.02629, params: {'max_depth': 5, 'min_child_weight': 3},\n",
       "  mean: 0.87182, std: 0.04157, params: {'max_depth': 5, 'min_child_weight': 5},\n",
       "  mean: 0.87506, std: 0.02808, params: {'max_depth': 7, 'min_child_weight': 1},\n",
       "  mean: 0.88598, std: 0.02172, params: {'max_depth': 7, 'min_child_weight': 3},\n",
       "  mean: 0.86789, std: 0.03989, params: {'max_depth': 7, 'min_child_weight': 5},\n",
       "  mean: 0.87673, std: 0.02841, params: {'max_depth': 9, 'min_child_weight': 1},\n",
       "  mean: 0.88417, std: 0.02096, params: {'max_depth': 9, 'min_child_weight': 3},\n",
       "  mean: 0.86491, std: 0.04508, params: {'max_depth': 9, 'min_child_weight': 5}],\n",
       " {'max_depth': 5, 'min_child_weight': 3},\n",
       " 0.88627145799121754)"
      ]
     },
     "execution_count": 118,
     "metadata": {},
     "output_type": "execute_result"
    }
   ],
   "source": [
    "param_test1 = {\n",
    " 'max_depth':range(3,10,2),\n",
    " 'min_child_weight':range(1,6,2)\n",
    "}\n",
    "\n",
    "gsearch1 = GridSearchCV(estimator = xgb.XGBRegressor( learning_rate =0.1, n_estimators=140, max_depth=5,\n",
    " min_child_weight=1, gamma=0, subsample=0.8, colsample_bytree=0.8,\n",
    " objective= 'reg:linear', nthread=4, scale_pos_weight=1, seed=27), \n",
    " param_grid = param_test1, scoring='r2',n_jobs=4,iid=False, cv=5)\n",
    "\n",
    "gsearch1.fit(X,y)\n",
    "gsearch1.grid_scores_, gsearch1.best_params_, gsearch1.best_score_"
   ]
  },
  {
   "cell_type": "code",
   "execution_count": 119,
   "metadata": {
    "collapsed": false
   },
   "outputs": [
    {
     "data": {
      "text/plain": [
       "([mean: 0.88433, std: 0.01382, params: {'max_depth': 4, 'min_child_weight': 2},\n",
       "  mean: 0.88455, std: 0.02557, params: {'max_depth': 4, 'min_child_weight': 3},\n",
       "  mean: 0.87942, std: 0.02962, params: {'max_depth': 4, 'min_child_weight': 4},\n",
       "  mean: 0.88008, std: 0.01651, params: {'max_depth': 5, 'min_child_weight': 2},\n",
       "  mean: 0.88627, std: 0.02629, params: {'max_depth': 5, 'min_child_weight': 3},\n",
       "  mean: 0.88161, std: 0.03249, params: {'max_depth': 5, 'min_child_weight': 4},\n",
       "  mean: 0.87987, std: 0.02055, params: {'max_depth': 6, 'min_child_weight': 2},\n",
       "  mean: 0.89011, std: 0.02047, params: {'max_depth': 6, 'min_child_weight': 3},\n",
       "  mean: 0.88426, std: 0.02721, params: {'max_depth': 6, 'min_child_weight': 4}],\n",
       " {'max_depth': 6, 'min_child_weight': 3},\n",
       " 0.89010732040126361)"
      ]
     },
     "execution_count": 119,
     "metadata": {},
     "output_type": "execute_result"
    }
   ],
   "source": [
    "param_test2 = {\n",
    " 'max_depth':[4,5,6],\n",
    " 'min_child_weight':[2,3,4]\n",
    "}\n",
    "gsearch2 = GridSearchCV(estimator = xgb.XGBRegressor( learning_rate =0.1, n_estimators=140, max_depth=5,\n",
    " min_child_weight=1, gamma=0, subsample=0.8, colsample_bytree=0.8,\n",
    " objective= 'reg:linear', nthread=4, scale_pos_weight=1, seed=27), \n",
    " param_grid = param_test2, scoring='r2',n_jobs=4,iid=False, cv=5)\n",
    "gsearch2.fit(X,y)\n",
    "gsearch2.grid_scores_, gsearch2.best_params_, gsearch2.best_score_"
   ]
  },
  {
   "cell_type": "code",
   "execution_count": 120,
   "metadata": {
    "collapsed": false
   },
   "outputs": [
    {
     "data": {
      "text/plain": [
       "([mean: 0.89011, std: 0.02047, params: {'gamma': 0.0},\n",
       "  mean: 0.89011, std: 0.02047, params: {'gamma': 0.1},\n",
       "  mean: 0.89011, std: 0.02047, params: {'gamma': 0.2},\n",
       "  mean: 0.89011, std: 0.02047, params: {'gamma': 0.3},\n",
       "  mean: 0.89011, std: 0.02047, params: {'gamma': 0.4}],\n",
       " {'gamma': 0.0},\n",
       " 0.89010732040126361)"
      ]
     },
     "execution_count": 120,
     "metadata": {},
     "output_type": "execute_result"
    }
   ],
   "source": [
    "param_test3 = {\n",
    " 'gamma':[i/10.0 for i in range(0,5)]\n",
    "}\n",
    "gsearch3 = GridSearchCV(estimator = xgb.XGBRegressor( learning_rate =0.1, n_estimators=140, max_depth=6,\n",
    " min_child_weight=3, gamma=0, subsample=0.8, colsample_bytree=0.8,\n",
    " objective= 'reg:linear', nthread=4, scale_pos_weight=1, seed=27), \n",
    " param_grid = param_test3, scoring='r2',n_jobs=4,iid=False, cv=5)\n",
    "gsearch3.fit(X,y)\n",
    "gsearch3.grid_scores_, gsearch3.best_params_, gsearch3.best_score_"
   ]
  },
  {
   "cell_type": "code",
   "execution_count": 121,
   "metadata": {
    "collapsed": false
   },
   "outputs": [
    {
     "data": {
      "text/plain": [
       "([mean: 0.88804, std: 0.02751, params: {'subsample': 0.6, 'colsample_bytree': 0.6},\n",
       "  mean: 0.89059, std: 0.02774, params: {'subsample': 0.7, 'colsample_bytree': 0.6},\n",
       "  mean: 0.88446, std: 0.02293, params: {'subsample': 0.8, 'colsample_bytree': 0.6},\n",
       "  mean: 0.89742, std: 0.01426, params: {'subsample': 0.9, 'colsample_bytree': 0.6},\n",
       "  mean: 0.88353, std: 0.02789, params: {'subsample': 0.6, 'colsample_bytree': 0.7},\n",
       "  mean: 0.88327, std: 0.02637, params: {'subsample': 0.7, 'colsample_bytree': 0.7},\n",
       "  mean: 0.88325, std: 0.02758, params: {'subsample': 0.8, 'colsample_bytree': 0.7},\n",
       "  mean: 0.89377, std: 0.02138, params: {'subsample': 0.9, 'colsample_bytree': 0.7},\n",
       "  mean: 0.88750, std: 0.02294, params: {'subsample': 0.6, 'colsample_bytree': 0.8},\n",
       "  mean: 0.88582, std: 0.02289, params: {'subsample': 0.7, 'colsample_bytree': 0.8},\n",
       "  mean: 0.89011, std: 0.02047, params: {'subsample': 0.8, 'colsample_bytree': 0.8},\n",
       "  mean: 0.89195, std: 0.01814, params: {'subsample': 0.9, 'colsample_bytree': 0.8},\n",
       "  mean: 0.88189, std: 0.02241, params: {'subsample': 0.6, 'colsample_bytree': 0.9},\n",
       "  mean: 0.88614, std: 0.01948, params: {'subsample': 0.7, 'colsample_bytree': 0.9},\n",
       "  mean: 0.89002, std: 0.02187, params: {'subsample': 0.8, 'colsample_bytree': 0.9},\n",
       "  mean: 0.89114, std: 0.01991, params: {'subsample': 0.9, 'colsample_bytree': 0.9}],\n",
       " {'colsample_bytree': 0.6, 'subsample': 0.9},\n",
       " 0.89742456455661979)"
      ]
     },
     "execution_count": 121,
     "metadata": {},
     "output_type": "execute_result"
    }
   ],
   "source": [
    "param_test4 = {\n",
    " 'subsample':[i/10.0 for i in range(6,10)],\n",
    " 'colsample_bytree':[i/10.0 for i in range(6,10)]\n",
    "}\n",
    "gsearch4 = GridSearchCV(estimator = xgb.XGBRegressor( learning_rate =0.1, n_estimators=140, max_depth=6,\n",
    " min_child_weight=3, gamma=0, subsample=0.8, colsample_bytree=0.8,\n",
    " objective= 'reg:linear', nthread=4, scale_pos_weight=1, seed=27), \n",
    " param_grid = param_test4, scoring='r2',n_jobs=4,iid=False, cv=5)\n",
    "gsearch4.fit(X,y)\n",
    "gsearch4.grid_scores_, gsearch4.best_params_, gsearch4.best_score_"
   ]
  },
  {
   "cell_type": "code",
   "execution_count": 122,
   "metadata": {
    "collapsed": false
   },
   "outputs": [
    {
     "data": {
      "text/plain": [
       "([mean: 0.89279, std: 0.02225, params: {'subsample': 0.85, 'colsample_bytree': 0.55},\n",
       "  mean: 0.89313, std: 0.02245, params: {'subsample': 0.9, 'colsample_bytree': 0.55},\n",
       "  mean: 0.88698, std: 0.01800, params: {'subsample': 0.95, 'colsample_bytree': 0.55},\n",
       "  mean: 0.88784, std: 0.02367, params: {'subsample': 0.85, 'colsample_bytree': 0.6},\n",
       "  mean: 0.89742, std: 0.01426, params: {'subsample': 0.9, 'colsample_bytree': 0.6},\n",
       "  mean: 0.89226, std: 0.01890, params: {'subsample': 0.95, 'colsample_bytree': 0.6},\n",
       "  mean: 0.88827, std: 0.02430, params: {'subsample': 0.85, 'colsample_bytree': 0.65},\n",
       "  mean: 0.88878, std: 0.02432, params: {'subsample': 0.9, 'colsample_bytree': 0.65},\n",
       "  mean: 0.89090, std: 0.02068, params: {'subsample': 0.95, 'colsample_bytree': 0.65}],\n",
       " {'colsample_bytree': 0.6, 'subsample': 0.9},\n",
       " 0.89742456455661979)"
      ]
     },
     "execution_count": 122,
     "metadata": {},
     "output_type": "execute_result"
    }
   ],
   "source": [
    "param_test5 = {\n",
    " 'subsample':[i/100.0 for i in range(85,100,5)],\n",
    " 'colsample_bytree':[i/100.0 for i in range(55,70,5)]\n",
    "}\n",
    "gsearch5 = GridSearchCV(estimator = xgb.XGBRegressor( learning_rate =0.1, n_estimators=140, max_depth=6,\n",
    " min_child_weight=3, gamma=0, subsample=0.8, colsample_bytree=0.8,\n",
    " objective= 'reg:linear', nthread=4, scale_pos_weight=1, seed=27), \n",
    " param_grid = param_test5, scoring='r2',n_jobs=4,iid=False, cv=5)\n",
    "gsearch5.fit(X,y)\n",
    "gsearch5.grid_scores_, gsearch5.best_params_, gsearch5.best_score_"
   ]
  },
  {
   "cell_type": "code",
   "execution_count": 123,
   "metadata": {
    "collapsed": false
   },
   "outputs": [
    {
     "data": {
      "text/plain": [
       "([mean: 0.89755, std: 0.01434, params: {'reg_alpha': 1e-05},\n",
       "  mean: 0.89755, std: 0.01434, params: {'reg_alpha': 0.01},\n",
       "  mean: 0.89755, std: 0.01434, params: {'reg_alpha': 0.1},\n",
       "  mean: 0.89773, std: 0.01460, params: {'reg_alpha': 1},\n",
       "  mean: 0.89466, std: 0.01356, params: {'reg_alpha': 100}],\n",
       " {'reg_alpha': 1},\n",
       " 0.89773476570127875)"
      ]
     },
     "execution_count": 123,
     "metadata": {},
     "output_type": "execute_result"
    }
   ],
   "source": [
    "param_test6 = {\n",
    " 'reg_alpha':[1e-5, 1e-2, 0.1, 1, 100]\n",
    "}\n",
    "\n",
    "gsearch6 = GridSearchCV(estimator = xgb.XGBRegressor( learning_rate =0.1, n_estimators=177, max_depth=6,\n",
    " min_child_weight=3, gamma=0.0, subsample=0.9, colsample_bytree=0.6,\n",
    " objective= 'reg:linear', nthread=4, scale_pos_weight=1,seed=27), \n",
    " param_grid = param_test6, scoring='r2',n_jobs=4,iid=False, cv=5)\n",
    "gsearch6.fit(X,y)\n",
    "gsearch6.grid_scores_, gsearch6.best_params_, gsearch6.best_score_"
   ]
  },
  {
   "cell_type": "code",
   "execution_count": 124,
   "metadata": {
    "collapsed": false
   },
   "outputs": [
    {
     "data": {
      "text/plain": [
       "([mean: 0.89773, std: 0.01460, params: {'reg_alpha': 0.48},\n",
       "  mean: 0.89773, std: 0.01460, params: {'reg_alpha': 0.5},\n",
       "  mean: 0.89773, std: 0.01460, params: {'reg_alpha': 0.52}],\n",
       " {'reg_alpha': 0.5},\n",
       " 0.89773480880805556)"
      ]
     },
     "execution_count": 124,
     "metadata": {},
     "output_type": "execute_result"
    }
   ],
   "source": [
    "param_test7 = {\n",
    " 'reg_alpha':[ 0.48, 0.5, .52]\n",
    "}\n",
    "gsearch7 = GridSearchCV(estimator = xgb.XGBRegressor( learning_rate =0.1, n_estimators=177, max_depth=6,\n",
    " min_child_weight=3, gamma=0.0, subsample=0.9, colsample_bytree=0.6,\n",
    " objective= 'reg:linear', nthread=4, scale_pos_weight=1,seed=27), \n",
    " param_grid = param_test7, scoring='r2',n_jobs=4,iid=False, cv=5)\n",
    "gsearch7.fit(X,y)\n",
    "gsearch7.grid_scores_, gsearch7.best_params_, gsearch7.best_score_"
   ]
  },
  {
   "cell_type": "code",
   "execution_count": 128,
   "metadata": {
    "collapsed": false
   },
   "outputs": [
    {
     "name": "stdout",
     "output_type": "stream",
     "text": [
      "\n",
      "Model Report\n",
      "RMSLE:  0.0505979866984\n",
      "Test RMSLE:  0.126969069787\n",
      "Score:  0.988963878852\n",
      "Test Score:  0.920729339802\n"
     ]
    },
    {
     "data": {
      "image/png": "iVBORw0KGgoAAAANSUhEUgAAAYwAAAEPCAYAAABRHfM8AAAABHNCSVQICAgIfAhkiAAAAAlwSFlz\nAAALEgAACxIB0t1+/AAAIABJREFUeJztnXl8XkX1/99pKUtpWiikgEgprfSgCJXFssjSssqiiPp1\nAUF2QUDQn2xFVJQCAgKyiChVEVdEwQqCbIW2LMomUFoOS0mRvZLQNEChLfn9cea2t0+fJLchT/Ik\n+bxfr7xy7zznzpyZOzNn9lvT0tKCEEII0R79ulsBIYQQPQMZDCGEEIWQwRBCCFEIGQwhhBCFkMEQ\nQghRCBkMIYQQhVipuxUQohQzew94HHgvObUAD7r7UR30b2vgcHc/ppNULBfGe8Da7t5QqTBaCfdw\nYIC7/6wrwxV9ExkMUY20AOPcvbGT/PsosH4n+dUa3bWhaQfCuApRcWQwRDVSk/6Ww8w2AX4CDAX6\nA5e6+6/MrAa4CNgGqE3PHwH8FzgTGGxmk4DfAJe5+2bJv52zezP7HrAdsB7wqLsfbGYTgM8Sw7f1\nwNfd/ZVWdMbMNgTuTH/bEWXsJOBrwCZET+lLSe5u4C5gTPLjeHefbmYrARcCuwKLgH8B33T3N83s\nuXS/GXA68GlgNzN7G/gLcCUwDFgXmAN8wd3/l577dfJzA+Badz8l6XwY8K0U1v+AQ9z9BTPbF/gO\nMAB4CzjJ3e83MwMmAaukeE9y9yvKvS/Ru9AchqhWppjZw2b2SPq/tpn1B64DTnH3jwPjgG+b2VjC\nUKzn7tu5+0cJw3Cqu78AfBeY5u6HJ79LewP5++HAx5KxOIiomMe6+5bAzURF2R4bATckPe4ELga+\nCGwK7Ghm2+bCutndtwBOA/6U4ngGYbQ2c/cxhGE8P+f/4+6+qbvfAEwGLkoV9peAe939E+4+Cngb\nOCj33OruvhPwCeB4M9vQzMYA5wJ7uPvHkn8TzOxDwNnAXu6+FWHw/mpmqxEGcHJ6B/sAOxZIE9EL\nUA9DVCvLDUmZ2YeBUcAvU48CYFVgC3e/0szOMLOjk8w4oKkD4d7v7pkB2Rf4OPBQNKrpB6xWwI93\n3f2mdP0sUYm/meLwEtE7ehlocPc/Abj7LWa2iOhtfBKY4O7ZHM6lwPU5/6eVC9TdLzGzHczsm8DG\nhIG6PyfytyT3kpm9mvQYB9zi7i9lfiQ9jyF6KXfk0noR8KGky9Vmtg1wO/CNAmkiegEyGKJaKTck\n1R9oTK19AMxsGPCGme1DtOQvAG4AngQOLONHS4nfK5f83lwS3o/c/coU1gCikm2Pd0vuF7Yit6jk\nvn9yK+359yeGhcrpuAQz+xGwNfBLomczgGXj+nbJIzUpvCU9LDNbFdgwhXmHu38599sHgRfd/XEz\n2xjYnRji+p6Zbefuz7UST9FL0JCU6Ek4sMDMDgQwsw2AGcBWwG7EMMmVwEPAZ4hKD6JSzCrcucDw\nNMRVk+Ra45/AEWZWm+7PIoa62qPs/EsZhpnZHikunyIMzeMp3KPNbCUz6wd8Hbi1FT/ycdsDuNjd\nf0fMRezO0jRojSnEHMg66f5o4EfAHcAeab4CM9sbeBRY1cx+B3zJ3a8FjgXmEfMiopcjgyGqkbIr\njtx9IbAfUYk/CtwCnO7u9wE/A8aZ2X+Ae4BniLkEgPuATczsL+4+C/g5YVTuBV5qQ4+rgBuB+83s\ncWK11SEFdG5rxVT+twXAQUnn04D90nDYWcArwH+AJ4iRgBNb8ftm4Btmdgoxuf9jM3uAmOuZRgwh\nlXuuBcDdZxBzEv80s0cIo3N0SqejgD8m9zOBT7n728APgQOT+/3AX919ahtxFr2EGh1vLkTXk1ZJ\nzXD32naFhagSKj6HkSbGznX38Tm3A4Dj3H37dH8k0ZpZCEx095vSWOpviSWCTcBX3f31SusrRBei\n1proUVR0SMrMTgJ+QazXzty2AA7L3a8DHE+sWf8kcE6aXDwGeCwtA7yGWGooRK/A3ee4++Du1kOI\nFaHScxjPAPtnN2a2FjE+e0JOZiww3d0XuXsT8DSxtHAHYowaYpx2twrrKoQQog0qOiTl7tensVrS\nao+riB2l7+TEBhOrLDKagSHEbt3MfX6Sa5dFixa3rLRSewtDhBBClNDu6r6u3IexJbFi4wpi89OH\nzexCYllf3hjUAo3EvEVtzu2NIoE0Nr4FQF1dLXPnzl/iXnrfW2WqXb+ulKl2/RRPxbOjMpXwt66u\n/fUXXWUwatz9QeKYhWyFyB/c/VtpDuMsM1uZMCSbEGvr7wX2Bh5M/8vubhVCCNE1dNU+jFZXg7j7\nq8AlwHTimIEJ7v4u0RP5qJlNIw6RO7MrFBVCCFGeivcw3H0OsH1bbu4+iZJD3dIGoS+saHiLFy+m\nvn42jY2DGDx4GP37az5DCCE6g16307u+fjYnnD+Zg077PfX1s7tbHSGE6DX0ysMHBw4Z1t0qCCFE\nr6PX9TCEEEJUBhkMIYQQhZDBEEIIUQgZDCGEEIWQwRBCCFEIGQwhhBCFkMEQQghRCBkMIYQQhZDB\nEEIIUQgZDCGEEIWQwRBCCFEIGQwhhBCFkMEQQghRCBkMIYQQhZDBEEIIUQgZDCGEEIWQwRBCCFEI\nGQwhhBCFkMEQQghRCBkMIYQQhZDBEEIIUQgZDCGEEIVYqdIBmNk2wLnuPt7MPgZcAiwC3gEOdve5\nZnYkcBSwEJjo7jeZ2arAb4FhQBPwVXd/vdL6CiGEKE9FexhmdhLwC2CV5HQxcKy77wJcD5xiZusA\nxwPbAZ8EzjGzAcAxwGPuvhNwDXBGJXUVQgjRNpUeknoG2D93/0V3fzxdrwQsAMYC0919kbs3AU8D\nY4AdgFuS7M3AbhXWVQghRBvUtLS0VDQAM9sQ+IO7b59z257oeexE9Co+6u6npd+uBn4DnAIc7+5u\nZjXAHHcf3l54M2fOajn2gikAXHnqbowePbqzoySEEL2RmvYEKj6HUYqZfRE4Ddjb3V83syZgcE6k\nFmgk5i1qc25vFPG/qentJdcNDc3MnTsfgLq62iXXGaVuvUGm2vXrSplq10/xVDw7KlMJf+vqammP\nLjUYZvYVYnJ7nLtnBuDfwFlmtjKwGrAJMAO4F9gbeDD9n9aVugohhFiWLjMYZtYP+AkwB7jezFqA\nu939TDO7BJhOdIkmuPu7ZnYFcLWZTSNWVB3QVboKIYRYnoobDHefA2TzF2u1IjMJmFTi9jbwhcpq\nJ4QQoijauCeEEKIQMhhCCCEKIYMhhBCiEDIYQgghCiGDIYQQohAyGEIIIQohgyGEEKIQXX40SFez\nePFi6utn09g4iIaGZkaMGEn//v27Wy0hhOhx9HqDUV8/mxPOn8zAIcN4a95r/OSkTzNq1MbdrZYQ\nQvQ4er3BABg4ZBiD1ly/u9UQQogejeYwhBBCFEIGQwghRCFkMIQQQhSi0ByGmR0AbApMBD7v7r+p\nqFZCCCGqjnZ7GGZ2LvEBo88SBuZQM/txpRUTQghRXRQZktoTOAhY4O5NwO7AXhXVSgghRNVRxGC8\nl/63pP+r5NyEEEL0EYoYjGuBPwFDzexEYCrw+4pqJYQQouooMul9AbAb8S3u4cD33P3GimolhBCi\n6ihiMB5w9y2Bf1ZaGSGEENVLkSGpV81sRzNbpeLaCCGEqFqK9DC2Bu4GMLPMrcXddeSrEEL0Ido1\nGO5e1xWKCCGEqG7aNRhmNhD4HrBrkr8TOMPd36ywbkIIIaqIIkNSlwFvAYcBNcCRwM+IzXztYmbb\nAOe6+3gzGwX8mtjHMcPdj00yRwJHAQuBie5+k5mtCvwWGAY0AV9199dXIG5CCCE6kSIGYyt3H5O7\nP87MZhbx3MxOIgxLc3K6EJjg7tPM7Aoz2w+4Hzge2BIYCEw3s1uBY4DH3P0HZvZF4AzgxEKxEkII\n0ekUWSXVz8zWyG7S9aKC/j8D7J+738rdp6Xrm4ljRsYC0919UTp65GlgDLADcEtOdreCYQohhKgA\nNS0tLW0KmNmhwARgcnL6NHCOu/+ySABmtiHwB3ff3sxedPf1k/t44FDCKGzm7qcl96uB3wCnAMe7\nu5tZDTDH3Ye3F97MmbNajr1gCgBXnho25mvn3s6gNdenufFFrjx1N0aPHl1EdSGE6EvUtCdQZJXU\nr8zsAWBnokeyv7vP6KBC+TOoaoE3iPmJwSXujcm9tkS2XZqa3l5y3dDQvNzvDQ3NzJ07H4C6utol\n1+Xue6JMtevXlTLVrp/iqXh2VKYS/tbV1dIeRY433wz4jrtfDtwO/NRyGzJWkIfNbKd0vRcwDXgA\n2MHMVjazIcAmwAzgXuJYddL/aaWeCSGE6DqKzGH8gljZhLvPAn4ITOpgeN8GfmBm9wADgOvc/VXg\nEmA6YZAmuPu7wBXAR81sGnAEcGYHwxRCCNEJFFkltbq7Z5PPuPttZnZe0QDcfQ6wfbp+GhhXRmYS\nJUbI3d8GvlA0HCGEEJWliMF4zcyOJvZEAHwJeLVyKgkhhKhGigxJHQrsC7wMPA/sQwwRCSGE6EMU\nWSX1PGEwhBBC9GFaNRjpDKkfANe6+7/N7ELiWJBHgC+7+4tdpGOns3jxYurrZ9PYOIjBg4fRv78O\n3hVCiPZoa0jqYuKojnoz2xs4ENiCON7jsi7QrWLU18/mhPMnc9Bpv6e+fnZ3qyOEED2CtoaktnP3\nzQDSmU/XuvszwDNmdnaXaFdBBg4Z1t0qCCFEj6KtHsbi3PU4Yo9ExsoV0UYIIUTV0lYP43UzGwus\nDqxPMhhmNg54ofKqCSGEqCbaMhgnAn8C1gG+7u5vmtl3gG8QS2uFEEL0IVo1GO7+OPCREuc/Ape6\n+7yKaiWEEKLqKLLTewlp0lsIIUQfpMhObyGEEEIGQwghRDHaHZIys5WBkwADjiMmw89NR5ALIYTo\nIxTpYVxOLK3dkviW94fo+PcwhBBC9FCKGIyt3H0CsNDd3wK+ShwRIoQQog9RxGC0pGGplnS/du5a\nCCFEH6GIwbiY2OW9rpldDDwEXFRRrYQQQlQdRb6HcY2ZPQSMB/oD+6RNfUIIIfoQ7fYwzGwz4Lvu\nfjlwG3C5mVnFNRNCCFFVFBmS+gXwawB3nwX8EK2SEkKIPkcRg7G6u9+S3bj7bcQyWyGEEH2IImdJ\nvWZmRwO/TfdfAl6tnEpCCCGqkSIG41Dgp8D5wELgbuCIjgZoZisBVwMjiI2ARxIfa/o18B4ww92P\nTbJHAkelcCe6+00dDVcIIcT7o8gqqeeBfTsxzL2B/u7+CTPbDTgbGABMcPdpZnZF+iTs/cDxxA7z\ngcB0M7vV3Rd2oi5CCCEKUuQsqT2Bs4ChQE3m7u4jOxjmU8BKZlYDDCF6D9u4+7T0+83AHkRvY7q7\nLwKazOxpYHNiH4gQQogupsiQ1KXAt4AZdM4O72ZgI+BJYC3gU8COud/nA4OBWmBeyXNDOiF8IYQQ\nHaCmpaVtG2Bm97r79p0VoJn9GFjg7qeb2frAXcAQdx+Wfv80sBtwK7BXbj7jr8BZ7v5wW/7PnDmr\n5dgLpgBw5am7AfC1c29n0Jrr09z44jJumczo0aM7K3pCCNFTqWlPoEgPY5qZXQjcAizIHN19ageV\naiCGoQDeSDo8YmY7u/vdwF7AncADwMR0jtVqwCZEL6dNmpreXhpQQ/PygZe4NTQ0M3fufADq6mqX\nXGeUulW7TLXr15Uy1a6f4ql4dlSmEv7W1dXSHkUMxtj0P39CbQuwS4Fny3Ex8Eszm0pMdp9KzEtc\nZWYDgFnAde7eYmaXANMJyzdB3+AQQojuo8gqqfGdGaC7vwl8scxP48rITqILdpUvXryY+vrZNDYO\nYvDgYfTv37/SQQohRI+jyCqpHYgv7g0iWvr9gQ3dfURlVes66utnc8L5kwH4yUmfZtSojbtZIyGE\nqD6KHA1yFXADYVwuB54Grq+kUt3BwCHDGDhkWHerIYQQVUsRg/G2u/+KWM3USOzM3rmSSgkhhKg+\nihiMBWY2FHBgW3dvQYcPCiFEn6OIwbgQ+BPwd+BgM3sCeLCiWgkhhKg6iiyrvZ2ly1y3AkYT+yeE\nEEL0IVo1GGa2AbEq6h/AXunsJ4jjOm4mNtIJIYToI7TVwziT+I73B4D8ru6FgI4ZF0KIPkarBsPd\nDwMws1Pc/Uddp5IQQohqpMik9yGVVkIIIUT1U2TSe6aZfRf4F7DkZL/3cfhgj0DHhQghxLIUMRhD\nibmM/JlS7+fwwR6BjgsRQohlKXz4oJnVEp9W7TNLanVUiBBCLKXI4YMjgT8Co4AaM5sDfMHdn660\nckIIIaqHIpPeVwLnufta7j4UOAf4RWXVEkIIUW0UMRhru/t12Y27X0vMawghhOhDFDEY75jZltlN\nOh7krcqpJIQQohopskrqROAvZtZAHBUylPJfzBNCCNGLKbJK6n4zG00cOlgDPKVvawshRN+j3SEp\nMxsOXAfcT5wp9Uszq6u0YkIIIaqLInMYvwNuIw4h3Ah4CLi6kkpVI4sXL+bZZ5/mqaeeYvHixd2t\njhBCdDlF5jAGu/tlufuLzOyQCulTtWjntxCir1Okh/GQmX0luzGzfYBHKqdS9TJwyDDt/hZC9FmK\n9DD2BQ4xsyuJM6QGApjZwUCLu/fZU/l0QKEQoi9RZJVUpzepzexU4NPAAOCnxGT6r4H3gBnufmyS\nOxI4ivho00R3r6oPN2mYSgjRlyhyllQd8CVgzby7u/+gIwGa2c7Adu6+vZmtDnwbuBCY4O7TzOwK\nM9uPWJV1PLAl0auZbma3uvvCjoRbKTREJYToKxSZw/gHsAWxByP/11H2BGaY2Q3AZOBGYEt3n5Z+\nvxnYHRgLTHf3Re7eBDwNbP4+wq04WkklhOjNFJnDWPK51k5ibWA4MTcykjAaecM1HxgM1ALzcu7N\nwJBO1KPTKTdEpXkOIURvoYjBuMHMjgDuBBZlju7+fAfDfB2Y5e6LgKfMbAHwwdzvtcAbQBNhOErd\n22Tw4NWWXA8dOmi530vdyt3X1dXS2DioQzLZEFUm89RTTy0xIteccwCjR49e8kxdXe1y+pW6dUSm\nUv72RJlq16+zZKpdv86SqXb9ulKmkmG3RhGDMQQ4Ffhfzq2F6B10hOnAN4j9HB8AVgfuMLOd3f1u\nYC/COD0ATDSzlYHVgE2AGe153tS05CuyNDQ0L/d7qVu5+7lz5y/j/n5lMiOSuUG8pOw6o9StIzKV\n8rcnylS7foqn4tlRmUr4W8RwFDEYnwOGufvb7UoWwN1vMrMdzezfxFzIMUA9cJWZDQBmAde5e4uZ\nXUIYmBpiUlxnWAkhRDdRxGDMJlZIdYrBAHD3U8s4jysjNwmY1FnhVgOa0xBC9FSKGIwWYKaZzQCW\ntPDdfZeKadWL0d4NIURPpYjBmFhxLfoY2rshhOiJFNnpfXdXKCKEEKK6adVgmNl7xHBUKTX08TOk\nOhvNawghegKtGgx3L7ILXHQCmtcQQvQECu30FpUnP6+hHocQohqRwahCSnscI0aMpL5+NoCMiBCi\n25DBqFLyPY7MgAwcMoy35r2mYSshRLdQyGCY2SeAzYBfAdu4+9SKaiWWY+CQYQxac/3uVkMI0Ydp\nd2LbzE4AzgK+BQwCrjSzb1daMSGEENVFkZVQhxDfsHjT3V8HPg505nHnQgghegBFDMbikkP/FgD6\nOpAQQvQxihiMu83sAmB1M/sM8cGjOyqrlhBCiGqjiME4ifg86qPAwcQnWzWHIYQQfYwiq6Rucfc9\ngCsrrYwQQojqpUgPYzUz26DimogVYvHixTz77NM89dRTLF6sKSUhROUp0sOoA+rN7DXiI0rZ4YMd\n/USr6AR0/pQQoqspYjD2rLgWokPouxpCiK6kiMHYuRX333SmIkIIIaqbIgZjfO56ALAjMBUZDCGE\n6FMU+eLeofl7MxsK/KliGgkhhKhKOvKRpGZgRCfrIYQQosppt4dhZlNY+qnWGmAksXlPVBH5jy41\nNDQzYsRIfTNDCNGpFJnD+H7uugX4n7vPrIw6oqPomxlCiEpTxGB83t2PzzuY2dXu/tX3E7CZDQMe\nBHYjDjP8NfAeMMPdj00yRwJHAQuBie5+0/sJs7ejb2YIISpJqwbDzK4ihp+2NrNNcz8NAIa8n0DN\nbCXgZ8BbyelCYIK7TzOzK8xsP+B+4HhgS2AgMN3MbnX3he8nbCGEEB2jrR7GWcTk9k+AM3Pui4BZ\n7zPcC4ArgNOIeZEt3X1a+u1mYA+itzHd3RcBTWb2NLA58ND7DFsIIUQHaHWVlLvXu/td7j4GeByY\nDTwHvAR8rKMBmtkhwGvufhthLEr1mA8MBmqBeTn3Zt5nz0YIIUTHKbJK6mzgWGIo6nXgA8TcwzYd\nDPNQ4D0z2x0YQ2wArMv9Xgu8ATQRhqPUvU0GD15tyfXQoYOW+73Urdx9XV0tjY2DqkZmReOQuQ0d\nOpBnn32WxsaXGTVq1DKrpurqapd7ptStN8hUu36dJVPt+nWWTLXr15UylQy7NYpMen8Z2IAYmjoL\nGA78v8IhlODuS44aMbM7gaOB881sJ3efCuwF3Ak8AEw0s5WB1YBNgBnt+d/U9PaS64aG5uV+L3Ur\ndz937vxl3LtbZkXjkLk1NDy6zAGFI0aMpL5+NkOHLr/0tq6ulrlz5y95vvS+J8pUu36Kp+LZUZlK\n+FvEcBTZuPeyuzcRlfUYd58CrFPguRXh28APzOweoidznbu/ClwCTAduJybF323DD1GGgUOGLTmk\nMFt6+7Vzb+eE8ydTXz+7m7UTQvQkivQw5pnZQcRk8/Fm9hKwZmcE7u675G7Hlfl9EjCpM8ISgZbe\nCiE6SpEexuHAMHe/C6gnvrz3nQrqJIQQogopcvjgS2b2MzPbnPi+92ru/mblVRNCCFFNtNvDMLNd\ngUeBvxFzF8+Z2R6VVkwIIUR1UWRI6mxgB+ANd3+ZmGs4v5JKia5D3wYXQhSliMHo5+6vZDc6eLB3\nka2cOui031NfP1sGRAjRKkVWSb1gZvsCLWa2BrGJ7/nKqiW6kvy3wTMDAujEWyHEMhQxGF8jNu1t\nADxLbKo7qpJKie4lb0CEECKjrdNq13f3F939NWK3t+ij5D/ONHjwMH2YSYg+SltzGH/PLsysw0eB\niJ5P6TyHEKJv0pbBqMldH1hpRUR1kz9iRAjRN2nLYLTkrmtalRJCCNEnKLKsFpY1HkIIIfogba2S\n2tTMsgHr9XPXNUCLu4+srGpCCCGqibYMxugu00IIIUTV06rBcPc5XamIEEKI6qboHIYQQog+jgyG\nEEKIQshgCCGEKIQMhhBCiEIUOXxQiGUod7ZUqRug86eE6GXIYIgVptwR6KVuwHIyOsRQiJ6NDIbo\nEOXOlSp1K73XtzaE6NnIYIguRQcYCtFz0aS3EEKIQnR5D8PMVgJ+CYwAVgYmAjOBXwPvATPc/dgk\neyTxdb+FwER3v6mr9RVCCBF0Rw/jK8D/3H0n4JPAZcCFwAR33xnoZ2b7mdk6wPHAdknuHDMb0A36\nCiGEoHvmMK4F/pyu+wOLgC3dfVpyuxnYg+htTHf3RUCTmT0NbA481MX6CiGEoBsMhru/BWBmtYTh\nOB24ICcyHxgM1ALzcu7NwJAuUlN0Aa3t3QC09FaIKqRbVkmZ2QbAX4HL3P2PZnZe7uda4A2giTAc\npe5tMnjwakuuhw4dtNzvpW7l7uvqamlsHFQ1Misah86SqXQ8m5peW7LM9ppzDgBi78bAIcN4a95r\nXHPOAYwaNYpnn32WxsaXGTVq1HIGpK6udoXue6tMtevXWTLVrl9XylQy7NbojknvdYB/Ase6+5Tk\n/IiZ7eTuU4G9gDuBB4CJZrYysBqwCTCjPf+bmt5ect3Q0Lzc76Vu5e7nzp2/jHt3y6xoHDpLpivi\nmS2zzd8PWnP9JW4NDY+2unejrq6WuXPnF77vrTLVrp/i2TPSoojh6I4exmnAGsAZZvZd4vOvJwCX\npkntWcB17t5iZpcA04mv/E1w93e7QV/RzeT3bmTDWICOIRGii+mOOYwTgRPL/DSujOwkYFKldRI9\nh2y3eDZsVe4YkhEjRi4xIA0NzYwYMXLJs20ZGR1dIkTbaKe36HHkh63ybhlFjErpfbnzsHR0iRDL\nIoMheiXtGZVy96VuRU7lVS9E9CVkMIRohSKn8uaHv2RURG9HBkOINmivF1LEqGhoS/QWZDCEeJ8U\nOepdiN6ADIYQFabIjvbMTbveRTUjgyFEhWnta4RFVnHlZTS0JbobGQwhuoByK7SKrOLKy2gyXXQ3\nMhhC9BDaWqGVbVCUERGVRAZDiB5EexsUyy3zFaKzkMEQogdTOmylJb2ikshgCNHLaG23emvnaqkX\nIooigyFEL2ZFD2vUbnXRFjIYQvRyih7WCNqtLtpGBkMI0SkHMYKGuno7MhhCiHYp0guB5Y+Ml1Hp\nXchgCCEKUeTMrNL79oxKNn8COgKlJyCDIYSoKG0ZlSJ7STI5bVDsfmQwhBDdSnt7SWD5c7WKGJW8\nm4bDOgcZDCFE1dHeuVrv50DH7F4rv1YcGQwhRI+kowc65ikyKa+J+6XIYAgh+ixFVnp1ZDVYbzUi\nMhhCiD5Ne72QIjJ9ZaOjDIYQQnQCbW10hPa/stgTeiVVbTDMrAb4KTAGWAAc4e6zu1crIYRom45M\nyveEXklVGwzgM8Aq7r69mW0DXJjchBCiqlnRSfmsVwLV2wupdoOxA3ALgLv/y8y27mZ9hBCiIqzo\nycJF9pt09p6UajcYg4F5uftFZtbP3d9r66G35r1W9j7v3ppMEX+6Q2ZF4tBZMp0dhyIyimf3yqxI\nHDpLRvEsTn39bI464ypWHTSUBc0N/PyHRwBw1BlXASxzX0Qmuy86HFbT0tKyQgp3JWb2Y+A+d78u\n3T/v7sO7WS0hhOiT9OtuBdrhHmBvADPbFni8e9URQoi+S7UPSV0P7G5m96T7Q7tTGSGE6MtU9ZCU\nEEKI6qHah6SEEEJUCTIYQgghCiGDIYQQohAyGEIIIQohgyGEEKIQMhhCCCEKUe37MAphZju6+zQz\n6wccDWwPrAdMA/6a/tYAPu/ud+WeGwM0Ay8ApwJrA5Pc/T9m9u30zN3AFsDqwP+A2919Vs6PVYEj\niNN0f5MmzkccAAAUTElEQVTkRgMfA94BtgaeA+5Lf18FPgE0AKcDX0kyTwC/cPdFyd+zgbPc/a1c\nWNsClwNvA6e6+/QUh/OBT6U4vAf8A3jT3Z80s8uBRuAC4ABgL+Am4CrgqBS3ecApQEtKvy2Al4A/\nufvMlBabAd8A5ieZrYGBwB3A1e7+btLxa+5+Zbm0cfd3k9uv0nO/AWqBM4D/AxYDb6T39g9g03Lp\nbmYnA5eU8XsM8B1gVkr7F4GrU5pnafwvYDwwpB2ZeSlfzAX+AhybvQsz2xv4EPB34Nfpfb8O3AY0\nJX3/nV7bv0v8zr/jtYFziDPTVgP+CzwNXAQ8ld7nLsBn3f31XD7YPj2zepGwUnr9E9gtxTtL43dz\nbmum9/FQLg88lNJilySzPfB9d5+e06VcPt0UWJzyX1aO/g7My7l9FJgN9E9xaHT33+bK8BZEvn2d\nyGf/A24HVi6Nh7s/kMKdkNJ/SZ5I7vk8uZxMisNL7n4ZbZDyV2thn+zu55XUKbelv78R5W094h0f\n4u5PtZFenyHqqlda0SMLq1w6n+/u88o915o/RWQzesU+DDO70913MbMLgEHAx4HXgKHACGAnYCpR\nKPdz9ylmdg6wDfHyXybOrdog/b8LeIaosDYHziZ2nC8APgA8QhQAiEr/JSIjjCMq1MuAi4nMcmO6\nnkMUvqHAVkn+Q8C9SeYg4oX/KPn7B6KymuTu56d43kNsXhwAXENUKsNSfO9Oem2XdJ4DPE9UHhcB\nxxKV9LZEwds16fM34MoUn7dT+tUCO6dwpqe02J+ohJ5NMh8hCu/KwCJgz6THecDJJWnTP72HPVNY\nY4FrU3o1Ar8Evp7ua4Gfp/DPTOn+oeT+StJlPFHZNxPGb1yK0xhgY6ISPhl4k6gUZ6Y0PhnYMKXx\n/FZkJgDDCUPyckq/BmBVYDd3n21m/yYK9c9TfHcgKtOPADOAJ4mK+wbC8AxNeg0j8uC9KX12TO9w\nH2A/4GtAHbB+knkEOAFYSFQgU1KF92GWnoJQLqzRyZ/ViEbKvkQl+TLR4Kgl8kM/4NKUFqcRxmoo\n8CiRL76TdLkwyVxMNComu/vBAGb2MpGXT0n6/SC9n1WJ/PcM0Xjaimg4PU80zAYSDdb/pjgcAnwf\nGEnkr1WJ/DQ36f5kisd7Kd3nA8cB6xJ56PH0TmYDNUTe2JP4PMJ44M7kXk5mJmF8s7phD5bnQGAT\n4HethD2eMG5rsTTvbApckd7hF9z9HjM7GjgypTfAwUS+XZnIO88QBnMx8Lmkzx9SupP0Hp/SZR2W\nlvNFRD7dnCg3W+Z0fzj9Py3580rOnzsB3P2AMnFejt5mMKa6+05mdre772xmU4D33H3XdL0qYUhq\ngQ8SBmMh8cJfTseo3wWs7+4bm9lUwoKPN7P+RKthAZHZ/5GC/yRws7sfZmafJSq/dYBX3H3NpN9d\nRIZ4J/l1l7uPM7N57j4kyfyZ6CX8nniZnyQq67FEJf0LopW7Q5JfN7lvSxio4e6+kZndS1SmexIV\n/H9T2rzh7mvk0uoNd18jS78UZv+UfveWSYtSmSwOU4hK55spbfcmjF0Wh1uITHpjknkvvZPxKb1+\nRVSkt7j7+KTPVKDG3XdM6T6TKCBrEAX1opT2J7r73eX8SbqPJ1q1g5O/05L+2+feS6lMVpnvkfLF\ncym9HicMaiNR+Z8IHOXu++by3X2E8fh7yiMDgHeTPvsDE1P8j01hXAoc7+53p7DnufuQ5M+66X2W\n5tv1gO3dvTGlTbmwJqT3kKXXjYRRIhfWNGBld98mlwd2LZNei3LvZQpwGFEBPZLy5NeJSu9ili1X\nbwJPpLxTmidfTuk1hWix/z3FcRWivO2US9O8TC3Qz90/kfTJ4rkWcEyS2Tel7VpEfrsV+H/AZ1Pa\nl5NZnMLO0nhgSuc7iHwM0TP/h7sf1krYF6V3cCzRM8vnncZcXfDnFH5WRvYhGj01wCdSepW+89eI\nhs7pKQ75sO5LafofonGzKlHmxhGG+WWicQFhTD4IfDnnz4mwNF+0R2+ZwxieCuQ8MxsBNJrZj4CB\n7r5rkhkGvOHu+xEWf3WiVT4L+BIwIB2fvjawdqqQBxM9EIBRSfZF4HV3P9TdDyVaTScDuPtfgVcJ\nY9JsZjulZwcSrb17kttCMzsi6ZvJXEIUqh8lf2e5+/+5+4ZJ348BHzWzRjNbJXVXnyGG2zZIcYDI\nMGsQrbO1gY3M7MtAS0qb4WZ2WO4eYCOiJZml3wAz25FopWZpsSHRu8pkVk5d4oEp3n8hDMPCXBye\nA05y98NyMtkwU5ZerxAV0FoWbE30KLJu9aiU5ucQmf0JotJ+O11n/jQSR8mskp5bSLTam3JpvCbL\nDsOWkxkMrOTuzSlN1zSzNYBmdx9LFLA5wFnAvWY2CVjfzP5IGLZR6R0sSumfvfMpRCXS393vTgX0\nBWA7MxtjZt8F3jGzzxCFOXuf/VMcs3y7JnC3mf23tbDc/eyUFuumNFoMzCmpFAYRlU7GcGKIclEu\nXwwk8lJG1rp8kqV5cgwwNadfLdGb/y9L884qSe8sT65hZh8hykQWh+FEJZ3lr0Fm9vGkQyYzIK9P\niudVRNl+IqXbEyl9s/w2hujlHteGzEeAllwcphI9rb1y5bwe+EEbYTcSPZbncnlnrJndRJSnz5nZ\nAOABIu9mZWQOcC5hfLP06kc0mDJ95hCG6UaWzf+v5NL0hHT/avL3Q0RP8VNZHNx9K6Inl6VFYy4v\nFqK39DA+Q3R5tyJaFIcQGXC6u386yTwLbOvuc9P9jkRXext3f8/MdiMK2X1EhX8aURAHEBXWQKIl\n9SXC8JyZ/NmVaOGPc/dXzWxU0mGjpN58IrNlPZNNiYzVQrQcRiUZB74HvODuj5vZlKxll4vnw8RQ\nwbrufkyKw0+BZ9x9/yTzGFEhTyG6uN8nCsls4LcpzJ+m8P5AtMyfTjoPTf+fI4aM7kj3pyU/phIV\nwq3Jv78AX/alpwmfDnwX2DrFYZm0STKTiGG19VJ6PUy0gvYihpWyOYC9iC52lu57EhX8zkQP7tsl\n6b4tYTzXJYba1krXrxHDHPOJCrpfiksTUdDWyck0EZXLe8DmKV8sIoaHmt09OwjzHmJo7au5PDKG\nqCRXY2k++WT6fdPk58NEhfLF5M8TROtyKyLf3U0MGe3l7s8mmTeAg919crrfg6hc8mlTGlYTMdR1\nJnA8kRffInq5TYRR7E+0ahclt/VTPGYDf0754kmip/BOktk85Ztj3P1fSZ9l8mkqR+eluM5gaTla\nwNI8+T3CYL1ADAcezFJj05/IX/XAden/4iRzeIrn/Fw83iGM91FEWVrEsvkty5ObEvmlnMxsoied\nNTYws5HA6u7+eLrfBvhZSRq+A/yQGEpch5jjy9cp96Q0HQ58Hngwxf2PRC/78VbSq5YoV38jR6pb\nLk9hnVTmubeBC939knJxKOePu2/BCtArDEYpqXs9mLCyM5NzDdGK2L6gH0OIF7AQWDszNCugwwZE\nRm9w9wXJbVWiUm5w9wWl9x2MFwCtxSu1jt/yNAHYEbK0KOKHmQ1z9zYP+c/L5OK0McvGqYUYU55b\n8uzqwB7ufn0rfm9EVEJN7j6/XBqbWW0Kc567N7f1HtLwwKAS/TYlKrZFRK8zo3/qheSfz/z+A1HB\nt+VPCwXyqcWni5fLk63EdUl65eLd5O7zS9JiiVuZ8JZJr9b0auXZ5fJOrmwNaatctRHPcvFYHdjd\n3W8o488wd3+tiEyB+LQW9nJ5MuXtWpZ9522+3/bKWhthFS6jbfnTHr3CYJjZyiVOtxJjrZcR44sQ\nwyvHEBNE1xMt9SFEK/lSonW6iFjBcH8r4ZRbHfM8MZb4WBJ7kJjH+AfREtw4yRzt7v9J/qxHDGO9\nkXRpN+z0XH+iJXgFMXacH1J4PsX7PqIVsyExQbch0eN4khhOyQzOPkQ3f2OipX2cu/88hfMScJC7\n35ELe6K7n25mG5fz12PFVrYy7ZqSeB3q7ve1EXeIobxs4m188v83KZ23JLrQZxMTsR9Icruk/78l\nJiRnEK3Js4nhjReIlVRZD+rHKe43JH93IFrMB+TeTRbP0cnf9ZJuzUSPAqKXsm7S5evE0MxZRCv6\nmyktJhJDHSen9Hq//pxSEs/vJ9n1iCGKfilNT01pfjmx0GA/lq6iuhb4QkqL0em9/JNWKPOuHiZ6\nYF/I8mmBMnErsZDgMqKXcyox93Yy0Vv4IpEHWoiy8yTL5p0jkv7l/CnNy+Xe53op7bIhy1sII30M\n0avJVrj1I3ptpxI9vNPN7Daijii7uqlMepVLi5eJXtpXklhWZp9P/8vVF/9l2TrlNqLHXUM0YG8l\nFsl8O+l8PdFTrUvxP5Z41wcR5TobfViuXK8ovcVgvEEUsreIRF2XGM9rcfeRSeZWouAOJ8bwnia6\nvCcQLb9/ET2C7YmhGNI1LF3VsicxLDOW6DJONbMmIrO+kMLeMF2vRWS8qWkccyzx4iEqxPoU7rrE\nKq5ziOW2pWHnwweWrmhoJd4QmXRm8vM8YlXQqUnPgURF+xixXHOqmc0iurl/J4Yx/pLi0ACc6bEy\nKJssv7EVf08lMvAGxMT9ca2kaRb3fySZnYgC9Tt33znFq3QV0veJycm7gH09Vpv8m5jneCfp88Mk\nc3t69iaiwhlIVNTZ2PArxFzCecBPiOGFDxPDlcvFM4U1BrjA3XenDLb86rVT019Nilun+VMaz+Tv\nI0QeOCo9twqxqu2a5NdowlANSfHP0mIRUQbOTP5mE7wZpe/qdWJ4djNi4r3cirHJyd9BRD5cN/k7\nlzAQ1xDG4RKiYbM6kQd+TuTB36WwViPydrY6rpw/y+Rlyr/P0nL/akrjW4H9U/5/JMX3K8nffu7+\nMTP7H9HLvSeV4S2JYTUoXz6z+mEAcF7yewzwM3ffDsqW2XL1RWmdMoIoRy3Jbd103Uw0do9L7icS\nQ2L9CWM6i5gI/0RKi0coKdesIL1l0ntbwlLv5+4bAfe7+0aZsUis4u5Xu/sPiRbaYne/mCgQM4gx\nWyMKxJXp76r0bHb/ImmJrLtPTb+NJQpzFnaTx1cBp+RkriIKRubPq0RF8A1ghrs7kVEHlQn7wpxb\n9tdqvIkvFI4kJqPvARam8e93iVUdGxCZk5x+LxMtk78R46vDiQr+JeCPZvZP4INm9uk2/P0xMRzy\nci6Ny6Xpq8Qekh9mcXf3F4gx/ox33f2lvI7u/ihRkLMVH81Ewcz0yWRWSvfbpvR4Ipc2D3gsIsj8\nbUxGqrGNeGb+5ntzpSx096fc/YlcWqxOFOpK+bNSLi3mpWez5zYkjMab6f4l4v0+lkuLe9x9dZa+\n848Qle/jtPKuiJV/uxOVdpZeaxOVUpamWbp7Lqz73X2DnH5G9FbqWZr/Ydm8M5boWTzehj+lebnc\n+xyZ3DN/m9z9IaIxmeX/ecCCnL8fMrPNWDa/XUVUwm2Vz6x+KM23eUrLbLn6orRO+TfRM9qyJC8P\ny8VrvrtPI8rF3oRRmUDMB2ZpsTrRi/lb5mZmJ6b8Xoje0sMYQlQ4VxIty8PdfZcSmRuIFzXR3VvS\n/UJgkLvvlcb6/0huIii5fZ8oXH82s4uJVTYvEZNnNxKtq5rkfhOx4uFvJTL7E62TM5M/y+iSwjqK\neMEnJZllwi4abyKz3UEMXZ1DLABYTCyh3NvMriEtsSS6sjeSMpG7H578nUkMe5m7H2dmHyaW7b1I\ntE7K+bsZ0dJaCKyV0rhcmpaL+1eAA919r3Rfms4HEBPTA4k16pOJgtFItJjOITbfzUnxPpzojRyT\n/k5Obo+V+Ltkfb67H95KPCcTLbed3T1bjln6HiYTLf4r3f2dlBaPEuP0szrZn9J4Tk46twBbpeem\nEK3st9x9pJltRwyRrE9M0B4OrOm5CU8zG0v0GBfk3kNpmXmEMGIHpjLzYWIBxVrEex6V0nMPYnjo\nuyms5pJ43Uls3Gv2pSMADxIVsqWwhhCbOX9ATPCW86c0L5d7n38iWvPbJX8vJozjhsSy9Wyf1EvE\nRPg7ZvYWKW8TeW8y0cA7lNhvUrZ8tlI/7JPpk2RKy2y5+qK0TjmKWIqbL+dNJe9mMjF0OMzdP5lG\nDSAayiNTWtxKlPPjki4fJpYsW+bWHr2lh3GTxwRUE5HoHywjMzz9/tPc/cpEdxfiRU0hCl/Gje5+\nIkvHyj9OWPtdUxj/RwwjZS9wFNHiKpXZnti5mvlTqgvEKoeP52RKwy4a70eBbxGt/VeT21pELwKi\nxfUjYtgg029N4GgzuyLJjHb3S1m6pHMWkTl3b81fj5UY/01/WbzKpWm5uK9PrILJKE3nZmASsTrm\n1aTXXGIIINPnMWI4oDHdTyZaVP/MpU2pvyOIlu6iNuLZP10fSOt8MKVh1rp8PMX5ngr4UxrP/sR7\nmJw9Rww95RsZ5xOV0NxcWmwGkHvnF3qsdqrPPVf6rjYj3tUrSb9ZRBm6gKVpehExFHlHLqxl4kUs\njf1FSdzXI3qkWVg3pXjd2oY/pXl5BMu/z0XEEGnm78dzaZfl/5oUTubvI8Dn0rNZGmenIrRVPsvV\nDw8TjZyM0jJbrr4orVPGlinnpe/mg0SvIivnGxPDdOTSYr3UALwic3P3S4saC+g9PYz8Spb8qpUl\nqxFs+RVG2QqVVYkXVnpPcutHtDZKn3kgyXwkJzMr3bclUy7s9sLKZJZZYdFKvNsLq704ZM/0I8aR\nV0S//KqfojLl4pV/V6VpWlSf1uKZX5VUxN/l9CulTN6qpD8dSff8+1zRd74i77Ot/L+i+aK991dO\nprX32RF/32/+b60eKi2z7dUXHU3TInFYQmt5spRecZYU0a3Krx4qx+4lMtkKlYlEV7P0HpZfxdLd\nMkXi3Z4/3R2HUplytPeuujKeRSjVt5L+dGdaVLtMtelXjtIy251pscL0ih6GEEKIytNb5jCEEEJU\nGBkMIYQQhZDBEEIIUQgZDCGEEIX4/45eY20+hQWSAAAAAElFTkSuQmCC\n",
      "text/plain": [
       "<matplotlib.figure.Figure at 0x1190259d0>"
      ]
     },
     "metadata": {},
     "output_type": "display_data"
    }
   ],
   "source": [
    "xgb1 = xgb.XGBRegressor(\n",
    " learning_rate =0.01,\n",
    " n_estimators=1000,\n",
    " max_depth=6,\n",
    " min_child_weight=3,\n",
    " gamma=0,\n",
    " subsample=0.9,\n",
    " colsample_bytree=0.6,\n",
    " reg_alpha=0.005,\n",
    " objective= 'reg:linear',\n",
    " nthread=4,\n",
    " scale_pos_weight=1,\n",
    " reg_lambda = 1,\n",
    " seed=27)\n",
    "model = xgfit(xgb1, X_train, y_train, X_test, y_test, trainDF, testDF)\n",
    "\n",
    "\n",
    "# Model Report\n",
    "# Score:  0.976768719611\n",
    "# Test Score:  0.911333479778\n",
    "\n",
    "# Model Report\n",
    "# Score:  0.984895516895\n",
    "# Test Score:  0.915703601912"
   ]
  },
  {
   "cell_type": "code",
   "execution_count": 133,
   "metadata": {
    "collapsed": false
   },
   "outputs": [],
   "source": [
    "rgr = RandomForestRegressor(bootstrap=True, criterion='mse', max_depth=5,\n",
    "           max_features=4, max_leaf_nodes=9, min_samples_leaf=1,\n",
    "           min_samples_split=4, min_weight_fraction_leaf=0.0,\n",
    "           n_estimators=10, n_jobs=1, oob_score=False, random_state=5,\n",
    "           verbose=0, warm_start=False)\n",
    "\n",
    "model = rgr.fit(X, y)\n",
    "newpredict = model.predict(X)"
=======
    "rf = RandomForestRegressor(bootstrap=True, criterion='mse', max_depth=5,\n",
    "           max_features=4, max_leaf_nodes=9, min_samples_leaf=1,\n",
    "           min_samples_split=4, min_weight_fraction_leaf=0.0,\n",
    "           n_estimators=10, n_jobs=1, oob_score=False, random_state=5,\n",
    "           verbose=0, warm_start=False)"
>>>>>>> master:notebooks/Exploraton.ipynb
   ]
  },
  {
   "cell_type": "code",
<<<<<<< HEAD:notebooks/Exploration2.ipynb
   "execution_count": 134,
=======
   "execution_count": 98,
>>>>>>> master:notebooks/Exploraton.ipynb
   "metadata": {
    "collapsed": false
   },
   "outputs": [
    {
     "name": "stdout",
     "output_type": "stream",
     "text": [
<<<<<<< HEAD:notebooks/Exploration2.ipynb
      "R**2:  0.731207727182\n",
      "RMSLE:  0.222827667092\n"
=======
      "0.731207727182\n"
>>>>>>> master:notebooks/Exploraton.ipynb
     ]
    }
   ],
   "source": [
<<<<<<< HEAD:notebooks/Exploration2.ipynb
    "print \"R**2: \", rgr.score(X,y)\n",
    "print \"RMSLE: \", np.sqrt(metrics.mean_squared_error(np.log1p(y),np.log1p(newpredict)))"
   ]
  },
  {
   "cell_type": "code",
   "execution_count": 135,
   "metadata": {
    "collapsed": false
   },
   "outputs": [],
   "source": [
    "submission = pd.DataFrame()\n",
    "    \n",
    "submission[\"Id\"] = testDF[\"Id\"].values.astype(int)\n",
    "submission[\"SalePrice\"] = rgr.predict(testDF[predictors].values)\n",
    "\n",
    "submission.to_csv(\"../assets/submission.csv\", index=False)\n",
    "\n",
    "#submission"
=======
    "model = rf.fit(X,y)\n",
    "print model.score(X,y)\n",
    "predictions = model.predict(ouput)\n",
    "submission.to_csv(\"../assets/submission.csv\", index=False)"
>>>>>>> master:notebooks/Exploraton.ipynb
   ]
  },
  {
   "cell_type": "code",
   "execution_count": null,
   "metadata": {
    "collapsed": true
   },
   "outputs": [],
   "source": []
  }
 ],
 "metadata": {
  "anaconda-cloud": {},
  "kernelspec": {
   "display_name": "Python [Root]",
   "language": "python",
   "name": "Python [Root]"
  },
  "language_info": {
   "codemirror_mode": {
    "name": "ipython",
    "version": 2
   },
   "file_extension": ".py",
   "mimetype": "text/x-python",
   "name": "python",
   "nbconvert_exporter": "python",
   "pygments_lexer": "ipython2",
   "version": "2.7.12"
  }
 },
 "nbformat": 4,
 "nbformat_minor": 0
}
