{
 "cells": [
  {
   "cell_type": "code",
   "execution_count": 96,
   "metadata": {
    "collapsed": false
   },
   "outputs": [],
   "source": [
    "import pandas as pd \n",
    "import matplotlib.pyplot as plt\n",
    "import numpy as np\n",
    "import sklearn as sk \n",
    "import sqlalchemy\n",
    "import seaborn as sns\n",
    "from sklearn.pipeline import make_pipeline, Pipeline\n",
    "from sklearn.linear_model import LinearRegression, LassoCV\n",
    "from sklearn.preprocessing import FunctionTransformer, LabelEncoder, MinMaxScaler, StandardScaler\n",
    "from sklearn.decomposition import PCA\n",
    "from sklearn.base import TransformerMixin\n",
    "from sklearn.grid_search import GridSearchCV\n",
    "from sklearn.ensemble import GradientBoostingRegressor,AdaBoostRegressor, RandomForestClassifier, RandomForestRegressor\n",
    "from sklearn.tree import DecisionTreeRegressor\n",
    "from sklearn.cross_validation import train_test_split, cross_val_score, KFold\n",
    "import xgboost as xgb\n",
    "from sklearn import metrics\n",
    "from scipy.stats import skew\n",
    "import keras\n",
    "\n",
    "%matplotlib inline"
   ]
  },
  {
   "cell_type": "code",
   "execution_count": 97,
   "metadata": {
    "collapsed": false
   },
   "outputs": [],
   "source": [
    "def convertNA(value):\n",
    "    try:\n",
    "        if np.isnan(value):\n",
    "            return \"None\"\n",
    "        else:\n",
    "            return value\n",
    "    except:\n",
    "        return value"
   ]
  },
  {
   "cell_type": "code",
   "execution_count": 98,
   "metadata": {
    "collapsed": false
   },
   "outputs": [],
   "source": [
    "train  = pd.read_csv(\"../assets/train.csv\")\n",
    "test = pd.read_csv(\"../assets/test.csv\")\n",
    "\n",
    "all_data = pd.concat((train.loc[:,'MSSubClass':'SaleCondition'],\n",
    "                      test.loc[:,'MSSubClass':'SaleCondition']))\n",
    "\n",
    "categories = [u\"Alley\",\"Fence\",\"PoolQC\",\"GarageCond\",\"GarageQual\",\"GarageFinish\",\"MiscFeature\",\"GarageType\",\"FireplaceQu\",\"BsmtFinType2\",\"BsmtFinType1\",\"BsmtCond\",\"BsmtQual\"]\n",
    "for column in categories:\n",
    "    all_data[column] = all_data[column].apply(convertNA)\n",
    "\n",
    "all_data.fillna(all_data.mean(),inplace=True)\n",
    "\n",
    "all_data = pd.get_dummies(all_data)\n",
    "\n",
    "X = all_data.iloc[:1460,:]\n",
    "X_test = all_data.iloc[1460:,:]\n",
    "y = train[\"SalePrice\"]"
   ]
  },
  {
   "cell_type": "code",
   "execution_count": 99,
   "metadata": {
    "collapsed": true
   },
   "outputs": [],
   "source": [
    "def runRFModel(X,y,X_test,predictTest = False):\n",
    "    cv = KFold(len(y),shuffle=False)\n",
    "    rf = RandomForestRegressor(random_state=5)\n",
    "    rfScore = cross_val_score(rf,X,y,cv=cv, n_jobs=-1)\n",
    "    model = rf.fit(X,y)\n",
    "    if predictTest:\n",
    "        return model.predict(X_test)\n",
    "    else:\n",
    "        return model.predict(X)\n",
    "    "
   ]
  },
  {
   "cell_type": "code",
   "execution_count": 153,
   "metadata": {
    "collapsed": true
   },
   "outputs": [],
   "source": [
    "def makeSubmission(predictions,testDF):\n",
    "    submission = pd.DataFrame()\n",
    "    submission[\"Id\"] = testDF[\"Id\"]\n",
    "    submission[\"SalePrice\"] = predictions\n",
    "    submission.to_csv(\"../assets/submission.csv\", index=False)"
   ]
  },
  {
   "cell_type": "code",
   "execution_count": 101,
   "metadata": {
    "collapsed": false
   },
   "outputs": [],
   "source": [
    "def rmsle(y_predict,y_actual):\n",
    "    return np.sqrt(np.mean(np.power(np.log1p(y_predict) - np.log1p(y_actual), 2)))"
   ]
  },
  {
   "cell_type": "code",
   "execution_count": 102,
   "metadata": {
    "collapsed": true
   },
   "outputs": [],
   "source": [
    "def modelfit(alg, X, X_test, y, useTrainCV=True, cv_folds=5, early_stopping_rounds=50):\n",
    "\n",
    "    if useTrainCV:\n",
    "        xgb_param = alg.get_xgb_params()\n",
    "        xgtrain = xgb.DMatrix(X.values, label=y.values)\n",
    "        cvresult = xgb.cv(xgb_param, xgtrain, num_boost_round=alg.get_params()['n_estimators'], nfold=cv_folds,\n",
    "            metrics='rmse', early_stopping_rounds=early_stopping_rounds)\n",
    "        alg.set_params(n_estimators=cvresult.shape[0])\n",
    "    \n",
    "    #Fit the algorithm on the data\n",
    "    alg.fit(X, y,eval_metric='rmse')\n",
    "        \n",
    "    #Predict training set:\n",
    "    dtrain_predictions = alg.predict(X)\n",
    "    dtest_predictions = alg.predict(X_test)\n",
    "    \n",
    "    #dtrain_predprob = alg.predict_proba(dtrain[predictors])[:,1]\n",
    "    #Print model report:\n",
    "    print \"\\nModel Report\"\n",
    "    #print \"Accuracy : %.4g\" % metrics.accuracy_score(dtrain['SalePrice'].values.astype(float), dtrain_predictions.astype(float))\n",
    "    #print \"AUC Score (Train): %f\" % metrics.roc_auc_score(dtrain['SalePrice'], dtrain_predprob)\n",
    "    print \"Score: \", metrics.r2_score(y,dtrain_predictions)\n",
    "    print \"RMSLE: \", rmsle(y,dtrain_predictions)\n",
    "    feat_imp = pd.Series(alg.booster().get_fscore()).sort_values(ascending=False)\n",
    "    feat_imp.plot(kind='bar', title='Feature Importances')\n",
    "    plt.ylabel('Feature Importance Score')\n",
    "    \n",
    "#     submission = pd.DataFrame()\n",
    "#     submission[\"Id\"] = dtest[\"Id\"].values.astype(int)\n",
    "#     submission[\"SalePrice\"] = dtest_predictions\n",
    "#     submission.to_csv(\"../assets/submission.csv\", index=False)"
   ]
  },
  {
   "cell_type": "code",
   "execution_count": 103,
   "metadata": {
    "collapsed": false
   },
   "outputs": [],
   "source": [
    "def runXGB(X,y,X_test, predictTest = False):\n",
    "    xgb1 = xgb.XGBRegressor(\n",
    "     learning_rate =0.01,\n",
    "     n_estimators=1000,\n",
    "     max_depth=6,\n",
    "     min_child_weight=3,\n",
    "     gamma=0,\n",
    "     subsample=0.65,\n",
    "     colsample_bytree=0.65,\n",
    "     objective= 'reg:linear',\n",
    "     nthread=4,\n",
    "     scale_pos_weight=1,\n",
    "     reg_alpha= 1e-05,\n",
    "     seed=27)\n",
    "    model = modelfit(xgb1, X, X_test, y)\n",
    "    if predictTest:\n",
    "        return xgb1.predict(X_test)\n",
    "    else:\n",
    "        return xgb1.predict(X)"
   ]
  },
  {
   "cell_type": "code",
   "execution_count": 104,
   "metadata": {
    "collapsed": true
   },
   "outputs": [],
   "source": [
    "def runLinReg(X,y,X_test, predictTest = False):\n",
    "    #log transform the target:\n",
    "    #y = np.log1p(y)\n",
    "\n",
    "    #log transform skewed numeric features:\n",
    "    numeric_feats = X.dtypes[X.dtypes != \"object\"].index\n",
    "\n",
    "    skewed_feats = X[numeric_feats].apply(lambda x: skew(x.dropna())) #compute skewness\n",
    "    skewed_feats = skewed_feats[skewed_feats > 0.75]\n",
    "    skewed_feats = skewed_feats.index\n",
    "\n",
    "    X[skewed_feats] = np.log1p(X[skewed_feats])\n",
    "    X_test[skewed_feats] = np.log1p(X[skewed_feats])\n",
    "    \n",
    "    model_lasso = LassoCV(alphas = [1, 0.1, 0.001, 0.0005]).fit(X, y)\n",
    "    if predictTest:\n",
    "        return model_lasso.predict(X_test)\n",
    "    else:\n",
    "        return model_lasso.predict(X)"
   ]
  },
  {
   "cell_type": "code",
   "execution_count": 156,
   "metadata": {
    "collapsed": false
   },
   "outputs": [
    {
     "name": "stdout",
     "output_type": "stream",
     "text": [
      "\n",
      "Model Report\n",
      "Score:  0.989275164204\n",
      "RMSLE:  0.0549405894513\n"
     ]
    },
    {
     "data": {
      "image/png": "[encoded data removed]",
      "text/plain": [
       "<matplotlib.figure.Figure at 0x13be99c90>"
      ]
     },
     "metadata": {},
     "output_type": "display_data"
    }
   ],
   "source": [
    "rf_predictions = runRFModel(X,y,X_test,predictTest =True)\n",
    "xgb_predictions = runXGB(X,y,X_test,predictTest =True)\n",
    "lr_predictions = runLinReg(X,y,X_test,predictTest =True)"
   ]
  },
  {
   "cell_type": "code",
   "execution_count": 157,
   "metadata": {
    "collapsed": false
   },
   "outputs": [
    {
     "data": {
      "text/plain": [
       "array([ 208500.,  181500.,  223500., ...,  210000.,  266500.,  142125.])"
      ]
     },
     "execution_count": 157,
     "metadata": {},
     "output_type": "execute_result"
    }
   ],
   "source": [
    "level1 = pd.DataFrame()\n",
    "level1[\"rf\"] = rf_predictions\n",
    "level1[\"xgb\"] = xgb_predictions\n",
    "level1[\"lr\"] = lr_predictions\n",
    "level1[\"y\"] = y\n",
    "level1\n",
    "\n",
    "net_X = level1.values[:,0:3]\n",
    "net_Y = level1.values[:,3]\n",
    "\n",
    "net_Y"
   ]
  },
  {
   "cell_type": "code",
   "execution_count": 158,
   "metadata": {
    "collapsed": false
   },
   "outputs": [],
   "source": [
    "from keras.models import Sequential\n",
    "from keras.layers import Dense\n",
    "from keras.wrappers.scikit_learn import KerasRegressor\n",
    "\n",
    "# define base mode\n",
    "def baseline_model():\n",
    "    # create model\n",
    "    model = Sequential()\n",
    "    model.add(Dense(3, input_dim=3, init='normal', activation='relu'))\n",
    "    model.add(Dense(1, init='normal'))\n",
    "    # Compile model\n",
    "    model.compile(loss='msle', optimizer='adam')\n",
    "    return model"
   ]
  },
  {
   "cell_type": "code",
   "execution_count": 159,
   "metadata": {
    "collapsed": false
   },
   "outputs": [],
   "source": [
    "# fix random seed for reproducibility\n",
    "seed = 7\n",
    "np.random.seed(seed)\n",
    "# evaluate model with standardized dataset\n",
    "estimator = KerasRegressor(build_fn=baseline_model, nb_epoch=100, batch_size=5, verbose=0)"
   ]
  },
  {
   "cell_type": "code",
   "execution_count": 124,
   "metadata": {
    "collapsed": false
   },
   "outputs": [
    {
     "name": "stdout",
     "output_type": "stream",
     "text": [
      "Results: 101.34 (66.34) MSE\n"
     ]
    }
   ],
   "source": [
    "kfold = KFold(n=1460, n_folds=10, random_state=seed)\n",
    "results = cross_val_score(estimator, net_X, net_Y, cv=kfold)\n",
    "print(\"Results: %.2f (%.2f) MSE\" % (results.mean(), results.std()))"
   ]
  },
  {
   "cell_type": "code",
   "execution_count": 128,
   "metadata": {
    "collapsed": false
   },
   "outputs": [],
   "source": [
    "model = baseline_model()"
   ]
  },
  {
   "cell_type": "code",
   "execution_count": 140,
   "metadata": {
    "collapsed": false,
    "scrolled": true
   },
   "outputs": [
    {
     "name": "stdout",
     "output_type": "stream",
     "text": [
      "Epoch 1/300\n",
      "1460/1460 [==============================] - 0s - loss: 0.0026     \n",
      "Epoch 2/300\n",
      "1460/1460 [==============================] - 0s - loss: 0.0027     \n",
      "Epoch 3/300\n",
      "1460/1460 [==============================] - 0s - loss: 0.0027     \n",
      "Epoch 4/300\n",
      "1460/1460 [==============================] - 0s - loss: 0.0026     \n",
      "Epoch 5/300\n",
      "1460/1460 [==============================] - 0s - loss: 0.0026     \n",
      "Epoch 6/300\n",
      "1460/1460 [==============================] - 0s - loss: 0.0027     \n",
      "Epoch 7/300\n",
      "1460/1460 [==============================] - 0s - loss: 0.0026     \n",
      "Epoch 8/300\n",
      "1460/1460 [==============================] - 0s - loss: 0.0026     \n",
      "Epoch 9/300\n",
      "1460/1460 [==============================] - 0s - loss: 0.0026     \n",
      "Epoch 10/300\n",
      "1460/1460 [==============================] - 0s - loss: 0.0026     \n",
      "Epoch 11/300\n",
      "1460/1460 [==============================] - 0s - loss: 0.0026     \n",
      "Epoch 12/300\n",
      "1460/1460 [==============================] - 0s - loss: 0.0026     \n",
      "Epoch 13/300\n",
      "1460/1460 [==============================] - 0s - loss: 0.0026     \n",
      "Epoch 14/300\n",
      "1460/1460 [==============================] - 0s - loss: 0.0026     \n",
      "Epoch 15/300\n",
      "1460/1460 [==============================] - 0s - loss: 0.0027     \n",
      "Epoch 16/300\n",
      "1460/1460 [==============================] - 0s - loss: 0.0026     \n",
      "Epoch 17/300\n",
      "1460/1460 [==============================] - 0s - loss: 0.0026     \n",
      "Epoch 18/300\n",
      "1460/1460 [==============================] - 0s - loss: 0.0026     \n",
      "Epoch 19/300\n",
      "1460/1460 [==============================] - 0s - loss: 0.0027     \n",
      "Epoch 20/300\n",
      "1460/1460 [==============================] - 0s - loss: 0.0026     \n",
      "Epoch 21/300\n",
      "1460/1460 [==============================] - 0s - loss: 0.0026     \n",
      "Epoch 22/300\n",
      "1460/1460 [==============================] - 0s - loss: 0.0026     \n",
      "Epoch 23/300\n",
      "1460/1460 [==============================] - 0s - loss: 0.0026     \n",
      "Epoch 24/300\n",
      "1460/1460 [==============================] - 0s - loss: 0.0026     \n",
      "Epoch 25/300\n",
      "1460/1460 [==============================] - 0s - loss: 0.0026     \n",
      "Epoch 26/300\n",
      "1460/1460 [==============================] - 0s - loss: 0.0026     \n",
      "Epoch 27/300\n",
      "1460/1460 [==============================] - 0s - loss: 0.0026     \n",
      "Epoch 28/300\n",
      "1460/1460 [==============================] - 0s - loss: 0.0026     \n",
      "Epoch 29/300\n",
      "1460/1460 [==============================] - 0s - loss: 0.0027     \n",
      "Epoch 30/300\n",
      "1460/1460 [==============================] - 0s - loss: 0.0027     \n",
      "Epoch 31/300\n",
      "1460/1460 [==============================] - 0s - loss: 0.0027     \n",
      "Epoch 32/300\n",
      "1460/1460 [==============================] - 0s - loss: 0.0026     \n",
      "Epoch 33/300\n",
      "1460/1460 [==============================] - 0s - loss: 0.0026     \n",
      "Epoch 34/300\n",
      "1460/1460 [==============================] - 0s - loss: 0.0026     \n",
      "Epoch 35/300\n",
      "1460/1460 [==============================] - 0s - loss: 0.0026     \n",
      "Epoch 36/300\n",
      "1460/1460 [==============================] - 0s - loss: 0.0027     \n",
      "Epoch 37/300\n",
      "1460/1460 [==============================] - 0s - loss: 0.0026     \n",
      "Epoch 38/300\n",
      "1460/1460 [==============================] - 0s - loss: 0.0026     \n",
      "Epoch 39/300\n",
      "1460/1460 [==============================] - 0s - loss: 0.0026     \n",
      "Epoch 40/300\n",
      "1460/1460 [==============================] - 0s - loss: 0.0026     \n",
      "Epoch 41/300\n",
      "1460/1460 [==============================] - 0s - loss: 0.0026     \n",
      "Epoch 42/300\n",
      "1460/1460 [==============================] - 0s - loss: 0.0026     \n",
      "Epoch 43/300\n",
      "1460/1460 [==============================] - 0s - loss: 0.0026     \n",
      "Epoch 44/300\n",
      "1460/1460 [==============================] - 0s - loss: 0.0026     \n",
      "Epoch 45/300\n",
      "1460/1460 [==============================] - 0s - loss: 0.0026     \n",
      "Epoch 46/300\n",
      "1460/1460 [==============================] - 0s - loss: 0.0026     \n",
      "Epoch 47/300\n",
      "1460/1460 [==============================] - 0s - loss: 0.0026     \n",
      "Epoch 48/300\n",
      "1460/1460 [==============================] - 0s - loss: 0.0026     \n",
      "Epoch 49/300\n",
      "1460/1460 [==============================] - 0s - loss: 0.0026     \n",
      "Epoch 50/300\n",
      "1460/1460 [==============================] - 0s - loss: 0.0026     \n",
      "Epoch 51/300\n",
      "1460/1460 [==============================] - 0s - loss: 0.0026     \n",
      "Epoch 52/300\n",
      "1460/1460 [==============================] - 0s - loss: 0.0026     \n",
      "Epoch 53/300\n",
      "1460/1460 [==============================] - 0s - loss: 0.0026     \n",
      "Epoch 54/300\n",
      "1460/1460 [==============================] - 0s - loss: 0.0026     \n",
      "Epoch 55/300\n",
      "1460/1460 [==============================] - 0s - loss: 0.0027     \n",
      "Epoch 56/300\n",
      "1460/1460 [==============================] - 0s - loss: 0.0026     \n",
      "Epoch 57/300\n",
      "1460/1460 [==============================] - 0s - loss: 0.0026     \n",
      "Epoch 58/300\n",
      "1460/1460 [==============================] - 0s - loss: 0.0027     \n",
      "Epoch 59/300\n",
      "1460/1460 [==============================] - 0s - loss: 0.0027     \n",
      "Epoch 60/300\n",
      "1460/1460 [==============================] - 0s - loss: 0.0026     \n",
      "Epoch 61/300\n",
      "1460/1460 [==============================] - 0s - loss: 0.0026     \n",
      "Epoch 62/300\n",
      "1460/1460 [==============================] - 0s - loss: 0.0026     \n",
      "Epoch 63/300\n",
      "1460/1460 [==============================] - 0s - loss: 0.0026     \n",
      "Epoch 64/300\n",
      "1460/1460 [==============================] - 0s - loss: 0.0026     \n",
      "Epoch 65/300\n",
      "1460/1460 [==============================] - 0s - loss: 0.0026     \n",
      "Epoch 66/300\n",
      "1460/1460 [==============================] - 0s - loss: 0.0026     \n",
      "Epoch 67/300\n",
      "1460/1460 [==============================] - 0s - loss: 0.0026     \n",
      "Epoch 68/300\n",
      "1460/1460 [==============================] - 0s - loss: 0.0026     \n",
      "Epoch 69/300\n",
      "1460/1460 [==============================] - 0s - loss: 0.0027     \n",
      "Epoch 70/300\n",
      "1460/1460 [==============================] - 0s - loss: 0.0026     \n",
      "Epoch 71/300\n",
      "1460/1460 [==============================] - 0s - loss: 0.0026     \n",
      "Epoch 72/300\n",
      "1460/1460 [==============================] - 0s - loss: 0.0027     \n",
      "Epoch 73/300\n",
      "1460/1460 [==============================] - 0s - loss: 0.0026     \n",
      "Epoch 74/300\n",
      "1460/1460 [==============================] - 0s - loss: 0.0027     \n",
      "Epoch 75/300\n",
      "1460/1460 [==============================] - 0s - loss: 0.0026     \n",
      "Epoch 76/300\n",
      "1460/1460 [==============================] - 0s - loss: 0.0027     \n",
      "Epoch 77/300\n",
      "1460/1460 [==============================] - 0s - loss: 0.0027     \n",
      "Epoch 78/300\n",
      "1460/1460 [==============================] - 0s - loss: 0.0026     \n",
      "Epoch 79/300\n",
      "1460/1460 [==============================] - 0s - loss: 0.0026     \n",
      "Epoch 80/300\n",
      "1460/1460 [==============================] - 0s - loss: 0.0026     \n",
      "Epoch 81/300\n",
      "1460/1460 [==============================] - 0s - loss: 0.0027     \n",
      "Epoch 82/300\n",
      "1460/1460 [==============================] - 0s - loss: 0.0026     \n",
      "Epoch 83/300\n",
      "1460/1460 [==============================] - 0s - loss: 0.0026     \n",
      "Epoch 84/300\n",
      "1460/1460 [==============================] - 0s - loss: 0.0026     \n",
      "Epoch 85/300\n",
      "1460/1460 [==============================] - 0s - loss: 0.0026     \n",
      "Epoch 86/300\n",
      "1460/1460 [==============================] - 0s - loss: 0.0026     \n",
      "Epoch 87/300\n",
      "1460/1460 [==============================] - 0s - loss: 0.0026     \n",
      "Epoch 88/300\n",
      "1460/1460 [==============================] - 0s - loss: 0.0026     \n",
      "Epoch 89/300\n",
      "1460/1460 [==============================] - 0s - loss: 0.0026     \n",
      "Epoch 90/300\n",
      "1460/1460 [==============================] - 0s - loss: 0.0026     \n",
      "Epoch 91/300\n",
      "1460/1460 [==============================] - 0s - loss: 0.0026     \n",
      "Epoch 92/300\n",
      "1460/1460 [==============================] - 0s - loss: 0.0026     \n",
      "Epoch 93/300\n",
      "1460/1460 [==============================] - 0s - loss: 0.0026     \n",
      "Epoch 94/300\n",
      "1460/1460 [==============================] - 0s - loss: 0.0026     \n",
      "Epoch 95/300\n",
      "1460/1460 [==============================] - 0s - loss: 0.0026     \n",
      "Epoch 96/300\n",
      "1460/1460 [==============================] - 0s - loss: 0.0026     \n",
      "Epoch 97/300\n",
      "1460/1460 [==============================] - 0s - loss: 0.0026     \n",
      "Epoch 98/300\n",
      "1460/1460 [==============================] - 0s - loss: 0.0026     \n",
      "Epoch 99/300\n",
      "1460/1460 [==============================] - 0s - loss: 0.0026     \n",
      "Epoch 100/300\n",
      "1460/1460 [==============================] - 0s - loss: 0.0026     \n",
      "Epoch 101/300\n",
      "1460/1460 [==============================] - 0s - loss: 0.0026     \n",
      "Epoch 102/300\n",
      "1460/1460 [==============================] - 0s - loss: 0.0026     \n",
      "Epoch 103/300\n",
      "1460/1460 [==============================] - 0s - loss: 0.0026     \n",
      "Epoch 104/300\n",
      "1460/1460 [==============================] - 0s - loss: 0.0026     \n",
      "Epoch 105/300\n",
      "1460/1460 [==============================] - 0s - loss: 0.0027     \n",
      "Epoch 106/300\n",
      "1460/1460 [==============================] - 0s - loss: 0.0027     \n",
      "Epoch 107/300\n",
      "1460/1460 [==============================] - 0s - loss: 0.0026     \n",
      "Epoch 108/300\n",
      "1460/1460 [==============================] - 0s - loss: 0.0026     \n",
      "Epoch 109/300\n",
      "1460/1460 [==============================] - 0s - loss: 0.0026     \n",
      "Epoch 110/300\n",
      "1460/1460 [==============================] - 0s - loss: 0.0027     \n",
      "Epoch 111/300\n",
      "1460/1460 [==============================] - 0s - loss: 0.0026     \n",
      "Epoch 112/300\n",
      "1460/1460 [==============================] - 0s - loss: 0.0026     \n",
      "Epoch 113/300\n",
      "1460/1460 [==============================] - 0s - loss: 0.0026     \n",
      "Epoch 114/300\n",
      "1460/1460 [==============================] - 0s - loss: 0.0026     \n",
      "Epoch 115/300\n",
      "1460/1460 [==============================] - 0s - loss: 0.0026     \n",
      "Epoch 116/300\n",
      "1460/1460 [==============================] - 0s - loss: 0.0026     \n",
      "Epoch 117/300\n",
      "1460/1460 [==============================] - 0s - loss: 0.0027     \n",
      "Epoch 118/300\n",
      "1460/1460 [==============================] - 0s - loss: 0.0026     \n",
      "Epoch 119/300\n",
      "1460/1460 [==============================] - 0s - loss: 0.0026     \n",
      "Epoch 120/300\n",
      "1460/1460 [==============================] - 0s - loss: 0.0026     \n",
      "Epoch 121/300\n",
      "1460/1460 [==============================] - 0s - loss: 0.0026     \n",
      "Epoch 122/300\n",
      "1460/1460 [==============================] - 0s - loss: 0.0026     \n",
      "Epoch 123/300\n",
      "1460/1460 [==============================] - 0s - loss: 0.0026     \n",
      "Epoch 124/300\n",
      "1460/1460 [==============================] - 0s - loss: 0.0026     \n",
      "Epoch 125/300\n",
      "1460/1460 [==============================] - 0s - loss: 0.0026     \n",
      "Epoch 126/300\n",
      "1460/1460 [==============================] - 0s - loss: 0.0026     \n",
      "Epoch 127/300\n",
      "1460/1460 [==============================] - 0s - loss: 0.0027     \n",
      "Epoch 128/300\n",
      "1460/1460 [==============================] - 0s - loss: 0.0026     \n",
      "Epoch 129/300\n",
      "1460/1460 [==============================] - 0s - loss: 0.0026     \n",
      "Epoch 130/300\n",
      "1460/1460 [==============================] - 0s - loss: 0.0026     \n",
      "Epoch 131/300\n",
      "1460/1460 [==============================] - 0s - loss: 0.0026     \n",
      "Epoch 132/300\n",
      "1460/1460 [==============================] - 0s - loss: 0.0026     \n",
      "Epoch 133/300\n",
      "1460/1460 [==============================] - 0s - loss: 0.0026     \n",
      "Epoch 134/300\n",
      "1460/1460 [==============================] - 0s - loss: 0.0026     \n",
      "Epoch 135/300\n",
      "1460/1460 [==============================] - 0s - loss: 0.0026     \n",
      "Epoch 136/300\n",
      "1460/1460 [==============================] - 0s - loss: 0.0026     \n",
      "Epoch 137/300\n",
      "1460/1460 [==============================] - 0s - loss: 0.0026     \n",
      "Epoch 138/300\n",
      "1460/1460 [==============================] - 0s - loss: 0.0026     \n",
      "Epoch 139/300\n",
      "1460/1460 [==============================] - 0s - loss: 0.0026     \n",
      "Epoch 140/300\n",
      "1460/1460 [==============================] - 0s - loss: 0.0026     \n",
      "Epoch 141/300\n",
      "1460/1460 [==============================] - 0s - loss: 0.0026     \n",
      "Epoch 142/300\n",
      "1460/1460 [==============================] - 0s - loss: 0.0026     \n",
      "Epoch 143/300\n",
      "1460/1460 [==============================] - 0s - loss: 0.0026     \n",
      "Epoch 144/300\n",
      "1460/1460 [==============================] - 0s - loss: 0.0026     \n",
      "Epoch 145/300\n",
      "1460/1460 [==============================] - 0s - loss: 0.0026     \n",
      "Epoch 146/300\n",
      "1460/1460 [==============================] - 0s - loss: 0.0026     \n",
      "Epoch 147/300\n",
      "1460/1460 [==============================] - 0s - loss: 0.0027     \n",
      "Epoch 148/300\n",
      "1460/1460 [==============================] - 0s - loss: 0.0026     \n",
      "Epoch 149/300\n",
      "1460/1460 [==============================] - 0s - loss: 0.0026     \n",
      "Epoch 150/300\n",
      "1460/1460 [==============================] - 0s - loss: 0.0026     \n",
      "Epoch 151/300\n",
      "1460/1460 [==============================] - 0s - loss: 0.0026     \n",
      "Epoch 152/300\n",
      "1460/1460 [==============================] - 0s - loss: 0.0026     \n",
      "Epoch 153/300\n",
      "1460/1460 [==============================] - 0s - loss: 0.0026     \n",
      "Epoch 154/300\n",
      "1460/1460 [==============================] - 0s - loss: 0.0026     \n",
      "Epoch 155/300\n",
      "1460/1460 [==============================] - 0s - loss: 0.0026     \n",
      "Epoch 156/300\n",
      "1460/1460 [==============================] - 0s - loss: 0.0027     \n",
      "Epoch 157/300\n",
      "1460/1460 [==============================] - 0s - loss: 0.0026     \n",
      "Epoch 158/300\n",
      "1460/1460 [==============================] - 0s - loss: 0.0027     \n",
      "Epoch 159/300\n",
      "1460/1460 [==============================] - 0s - loss: 0.0026     \n",
      "Epoch 160/300\n",
      "1460/1460 [==============================] - 0s - loss: 0.0026     \n",
      "Epoch 161/300\n",
      "1460/1460 [==============================] - 0s - loss: 0.0026     \n",
      "Epoch 162/300\n",
      "1460/1460 [==============================] - 0s - loss: 0.0026     \n",
      "Epoch 163/300\n",
      "1460/1460 [==============================] - 0s - loss: 0.0026     \n",
      "Epoch 164/300\n",
      "1460/1460 [==============================] - 0s - loss: 0.0026     \n",
      "Epoch 165/300\n",
      "1460/1460 [==============================] - 0s - loss: 0.0027     \n",
      "Epoch 166/300\n",
      "1460/1460 [==============================] - 0s - loss: 0.0027     \n",
      "Epoch 167/300\n",
      "1460/1460 [==============================] - 0s - loss: 0.0027     \n",
      "Epoch 168/300\n",
      "1460/1460 [==============================] - 0s - loss: 0.0026     \n",
      "Epoch 169/300\n",
      "1460/1460 [==============================] - 0s - loss: 0.0026     \n",
      "Epoch 170/300\n",
      "1460/1460 [==============================] - 0s - loss: 0.0026     \n",
      "Epoch 171/300\n",
      "1460/1460 [==============================] - 0s - loss: 0.0026     \n",
      "Epoch 172/300\n",
      "1460/1460 [==============================] - 0s - loss: 0.0026     \n",
      "Epoch 173/300\n",
      "1460/1460 [==============================] - 0s - loss: 0.0026     \n",
      "Epoch 174/300\n",
      "1460/1460 [==============================] - 0s - loss: 0.0026     \n",
      "Epoch 175/300\n",
      "1460/1460 [==============================] - 0s - loss: 0.0026     \n",
      "Epoch 176/300\n",
      "1460/1460 [==============================] - 0s - loss: 0.0027     \n",
      "Epoch 177/300\n",
      "1460/1460 [==============================] - 0s - loss: 0.0026     \n",
      "Epoch 178/300\n",
      "1460/1460 [==============================] - 0s - loss: 0.0026     \n",
      "Epoch 179/300\n",
      "1460/1460 [==============================] - 0s - loss: 0.0026     \n",
      "Epoch 180/300\n",
      "1460/1460 [==============================] - 0s - loss: 0.0026     \n",
      "Epoch 181/300\n",
      "1460/1460 [==============================] - 0s - loss: 0.0026     \n",
      "Epoch 182/300\n",
      "1460/1460 [==============================] - 0s - loss: 0.0026     \n",
      "Epoch 183/300\n",
      "1460/1460 [==============================] - 0s - loss: 0.0027     \n",
      "Epoch 184/300\n",
      "1460/1460 [==============================] - 0s - loss: 0.0026     \n",
      "Epoch 185/300\n",
      "1460/1460 [==============================] - 0s - loss: 0.0026     \n",
      "Epoch 186/300\n",
      "1460/1460 [==============================] - 0s - loss: 0.0026     \n",
      "Epoch 187/300\n",
      "1460/1460 [==============================] - 0s - loss: 0.0026     \n",
      "Epoch 188/300\n",
      "1460/1460 [==============================] - 0s - loss: 0.0026     \n",
      "Epoch 189/300\n",
      "1460/1460 [==============================] - 0s - loss: 0.0026     \n",
      "Epoch 190/300\n",
      "1460/1460 [==============================] - 0s - loss: 0.0026     \n",
      "Epoch 191/300\n",
      "1460/1460 [==============================] - 0s - loss: 0.0027     \n",
      "Epoch 192/300\n",
      "1460/1460 [==============================] - 0s - loss: 0.0026     \n",
      "Epoch 193/300\n",
      "1460/1460 [==============================] - 0s - loss: 0.0026     \n",
      "Epoch 194/300\n",
      "1460/1460 [==============================] - 0s - loss: 0.0026     \n",
      "Epoch 195/300\n",
      "1460/1460 [==============================] - 0s - loss: 0.0026     \n",
      "Epoch 196/300\n",
      "1460/1460 [==============================] - 0s - loss: 0.0026     \n",
      "Epoch 197/300\n",
      "1460/1460 [==============================] - 0s - loss: 0.0026     \n",
      "Epoch 198/300\n",
      "1460/1460 [==============================] - 0s - loss: 0.0026     \n",
      "Epoch 199/300\n",
      "1460/1460 [==============================] - 0s - loss: 0.0027     \n",
      "Epoch 200/300\n",
      "1460/1460 [==============================] - 0s - loss: 0.0026     \n",
      "Epoch 201/300\n",
      "1460/1460 [==============================] - 0s - loss: 0.0026     \n",
      "Epoch 202/300\n",
      "1460/1460 [==============================] - 0s - loss: 0.0026     \n",
      "Epoch 203/300\n",
      "1460/1460 [==============================] - 0s - loss: 0.0026     \n",
      "Epoch 204/300\n",
      "1460/1460 [==============================] - 0s - loss: 0.0026     \n",
      "Epoch 205/300\n",
      "1460/1460 [==============================] - 0s - loss: 0.0026     \n",
      "Epoch 206/300\n",
      "1460/1460 [==============================] - 0s - loss: 0.0026     \n",
      "Epoch 207/300\n",
      "1460/1460 [==============================] - 0s - loss: 0.0026     \n",
      "Epoch 208/300\n",
      "1460/1460 [==============================] - 0s - loss: 0.0026     \n",
      "Epoch 209/300\n",
      "1460/1460 [==============================] - 0s - loss: 0.0026     \n",
      "Epoch 210/300\n",
      "1460/1460 [==============================] - 0s - loss: 0.0026     \n",
      "Epoch 211/300\n",
      "1460/1460 [==============================] - 0s - loss: 0.0026     \n",
      "Epoch 212/300\n",
      "1460/1460 [==============================] - 0s - loss: 0.0026     \n",
      "Epoch 213/300\n",
      "1460/1460 [==============================] - 0s - loss: 0.0026     \n",
      "Epoch 214/300\n",
      "1460/1460 [==============================] - 0s - loss: 0.0026     \n",
      "Epoch 215/300\n",
      "1460/1460 [==============================] - 0s - loss: 0.0026     \n",
      "Epoch 216/300\n",
      "1460/1460 [==============================] - 0s - loss: 0.0026     \n",
      "Epoch 217/300\n",
      "1460/1460 [==============================] - 0s - loss: 0.0026     \n",
      "Epoch 218/300\n",
      "1460/1460 [==============================] - 0s - loss: 0.0026     \n",
      "Epoch 219/300\n",
      "1460/1460 [==============================] - 0s - loss: 0.0026     \n",
      "Epoch 220/300\n",
      "1460/1460 [==============================] - 0s - loss: 0.0026     \n",
      "Epoch 221/300\n",
      "1460/1460 [==============================] - 0s - loss: 0.0026     \n",
      "Epoch 222/300\n",
      "1460/1460 [==============================] - 0s - loss: 0.0026     \n",
      "Epoch 223/300\n",
      "1460/1460 [==============================] - 0s - loss: 0.0026     \n",
      "Epoch 224/300\n",
      "1460/1460 [==============================] - 0s - loss: 0.0027     \n",
      "Epoch 225/300\n",
      "1460/1460 [==============================] - 0s - loss: 0.0026     \n",
      "Epoch 226/300\n",
      "1460/1460 [==============================] - 0s - loss: 0.0026     \n",
      "Epoch 227/300\n",
      "1460/1460 [==============================] - 0s - loss: 0.0026     \n",
      "Epoch 228/300\n",
      "1460/1460 [==============================] - 0s - loss: 0.0026     \n",
      "Epoch 229/300\n",
      "1460/1460 [==============================] - 0s - loss: 0.0027     \n",
      "Epoch 230/300\n",
      "1460/1460 [==============================] - 0s - loss: 0.0026     \n",
      "Epoch 231/300\n",
      "1460/1460 [==============================] - 0s - loss: 0.0026     \n",
      "Epoch 232/300\n",
      "1460/1460 [==============================] - 0s - loss: 0.0027     \n",
      "Epoch 233/300\n",
      "1460/1460 [==============================] - 0s - loss: 0.0026     \n",
      "Epoch 234/300\n",
      "1460/1460 [==============================] - 0s - loss: 0.0026     \n",
      "Epoch 235/300\n",
      "1460/1460 [==============================] - 0s - loss: 0.0027     \n",
      "Epoch 236/300\n",
      "1460/1460 [==============================] - 0s - loss: 0.0026     \n",
      "Epoch 237/300\n",
      "1460/1460 [==============================] - 0s - loss: 0.0027     \n",
      "Epoch 238/300\n",
      "1460/1460 [==============================] - 0s - loss: 0.0027     \n",
      "Epoch 239/300\n",
      "1460/1460 [==============================] - 0s - loss: 0.0026     \n",
      "Epoch 240/300\n",
      "1460/1460 [==============================] - 0s - loss: 0.0026     \n",
      "Epoch 241/300\n",
      "1460/1460 [==============================] - 0s - loss: 0.0026     \n",
      "Epoch 242/300\n",
      "1460/1460 [==============================] - 0s - loss: 0.0026     \n",
      "Epoch 243/300\n",
      "1460/1460 [==============================] - 0s - loss: 0.0026     \n",
      "Epoch 244/300\n",
      "1460/1460 [==============================] - 0s - loss: 0.0026     \n",
      "Epoch 245/300\n",
      "1460/1460 [==============================] - 0s - loss: 0.0026     \n",
      "Epoch 246/300\n",
      "1460/1460 [==============================] - 0s - loss: 0.0026     \n",
      "Epoch 247/300\n",
      "1460/1460 [==============================] - 0s - loss: 0.0026     \n",
      "Epoch 248/300\n",
      "1460/1460 [==============================] - 0s - loss: 0.0026     \n",
      "Epoch 249/300\n",
      "1460/1460 [==============================] - 0s - loss: 0.0027     \n",
      "Epoch 250/300\n",
      "1460/1460 [==============================] - 0s - loss: 0.0027     \n",
      "Epoch 251/300\n",
      "1460/1460 [==============================] - 0s - loss: 0.0026     \n",
      "Epoch 252/300\n",
      "1460/1460 [==============================] - 0s - loss: 0.0026     \n",
      "Epoch 253/300\n",
      "1460/1460 [==============================] - 0s - loss: 0.0026     \n",
      "Epoch 254/300\n",
      "1460/1460 [==============================] - 0s - loss: 0.0026     \n",
      "Epoch 255/300\n",
      "1460/1460 [==============================] - 0s - loss: 0.0026     \n",
      "Epoch 256/300\n",
      "1460/1460 [==============================] - 0s - loss: 0.0026     \n",
      "Epoch 257/300\n",
      "1460/1460 [==============================] - 0s - loss: 0.0026     \n",
      "Epoch 258/300\n",
      "1460/1460 [==============================] - 0s - loss: 0.0026     \n",
      "Epoch 259/300\n",
      "1460/1460 [==============================] - 0s - loss: 0.0027     \n",
      "Epoch 260/300\n",
      "1460/1460 [==============================] - 0s - loss: 0.0026     \n",
      "Epoch 261/300\n",
      "1460/1460 [==============================] - 0s - loss: 0.0026     \n",
      "Epoch 262/300\n",
      "1460/1460 [==============================] - 0s - loss: 0.0026     \n",
      "Epoch 263/300\n",
      "1460/1460 [==============================] - 0s - loss: 0.0027     \n",
      "Epoch 264/300\n",
      "1460/1460 [==============================] - 0s - loss: 0.0026     \n",
      "Epoch 265/300\n",
      "1460/1460 [==============================] - 0s - loss: 0.0026     \n",
      "Epoch 266/300\n",
      "1460/1460 [==============================] - 0s - loss: 0.0026     \n",
      "Epoch 267/300\n",
      "1460/1460 [==============================] - 0s - loss: 0.0026     \n",
      "Epoch 268/300\n",
      "1460/1460 [==============================] - 0s - loss: 0.0026     \n",
      "Epoch 269/300\n",
      "1460/1460 [==============================] - 0s - loss: 0.0026     \n",
      "Epoch 270/300\n",
      "1460/1460 [==============================] - 0s - loss: 0.0026     \n",
      "Epoch 271/300\n",
      "1460/1460 [==============================] - 0s - loss: 0.0026     \n",
      "Epoch 272/300\n",
      "1460/1460 [==============================] - 0s - loss: 0.0027     \n",
      "Epoch 273/300\n",
      "1460/1460 [==============================] - 0s - loss: 0.0026     \n",
      "Epoch 274/300\n",
      "1460/1460 [==============================] - 0s - loss: 0.0027     \n",
      "Epoch 275/300\n",
      "1460/1460 [==============================] - 0s - loss: 0.0027     \n",
      "Epoch 276/300\n",
      "1460/1460 [==============================] - 0s - loss: 0.0027     \n",
      "Epoch 277/300\n",
      "1460/1460 [==============================] - 0s - loss: 0.0026     \n",
      "Epoch 278/300\n",
      "1460/1460 [==============================] - 0s - loss: 0.0026     \n",
      "Epoch 279/300\n",
      "1460/1460 [==============================] - 0s - loss: 0.0026     \n",
      "Epoch 280/300\n",
      "1460/1460 [==============================] - 0s - loss: 0.0026     \n",
      "Epoch 281/300\n",
      "1460/1460 [==============================] - 0s - loss: 0.0026     \n",
      "Epoch 282/300\n",
      "1460/1460 [==============================] - 0s - loss: 0.0026     \n",
      "Epoch 283/300\n",
      "1460/1460 [==============================] - 0s - loss: 0.0026     \n",
      "Epoch 284/300\n",
      "1460/1460 [==============================] - 0s - loss: 0.0026     \n",
      "Epoch 285/300\n",
      "1460/1460 [==============================] - 0s - loss: 0.0026     \n",
      "Epoch 286/300\n",
      "1460/1460 [==============================] - 0s - loss: 0.0026     \n",
      "Epoch 287/300\n",
      "1460/1460 [==============================] - 0s - loss: 0.0026     \n",
      "Epoch 288/300\n",
      "1460/1460 [==============================] - 0s - loss: 0.0026     \n",
      "Epoch 289/300\n",
      "1460/1460 [==============================] - 0s - loss: 0.0026     \n",
      "Epoch 290/300\n",
      "1460/1460 [==============================] - 0s - loss: 0.0026     \n",
      "Epoch 291/300\n",
      "1460/1460 [==============================] - 0s - loss: 0.0026     \n",
      "Epoch 292/300\n",
      "1460/1460 [==============================] - 0s - loss: 0.0026     \n",
      "Epoch 293/300\n",
      "1460/1460 [==============================] - 0s - loss: 0.0026     \n",
      "Epoch 294/300\n",
      "1460/1460 [==============================] - 0s - loss: 0.0026     \n",
      "Epoch 295/300\n",
      "1460/1460 [==============================] - 0s - loss: 0.0026     \n",
      "Epoch 296/300\n",
      "1460/1460 [==============================] - 0s - loss: 0.0026     \n",
      "Epoch 297/300\n",
      "1460/1460 [==============================] - 0s - loss: 0.0027     \n",
      "Epoch 298/300\n",
      "1460/1460 [==============================] - 0s - loss: 0.0026     \n",
      "Epoch 299/300\n",
      "1460/1460 [==============================] - 0s - loss: 0.0026     \n",
      "Epoch 300/300\n",
      "1460/1460 [==============================] - 0s - loss: 0.0026     \n"
     ]
    },
    {
     "data": {
      "text/plain": [
       "<keras.callbacks.History at 0x13c18d8d0>"
      ]
     },
     "execution_count": 140,
     "metadata": {},
     "output_type": "execute_result"
    }
   ],
   "source": [
    "model.fit(net_X,net_Y,nb_epoch=300)"
   ]
  },
  {
   "cell_type": "code",
   "execution_count": 160,
   "metadata": {
    "collapsed": false,
    "scrolled": true
   },
   "outputs": [
    {
     "data": {
      "text/plain": [
       "array([[ 111505.8125  ],\n",
       "       [ 114372.40625 ],\n",
       "       [ 135272.703125],\n",
       "       ..., \n",
       "       [ 122023.859375],\n",
       "       [ 114579.171875],\n",
       "       [ 183963.8125  ]], dtype=float32)"
      ]
     },
     "execution_count": 160,
     "metadata": {},
     "output_type": "execute_result"
    }
   ],
   "source": [
    "model.predict(net_X)"
   ]
  },
  {
   "cell_type": "code",
   "execution_count": 161,
   "metadata": {
    "collapsed": false
   },
   "outputs": [
    {
     "data": {
      "text/plain": [
       "array([ 208500.,  181500.,  223500., ...,  210000.,  266500.,  142125.])"
      ]
     },
     "execution_count": 161,
     "metadata": {},
     "output_type": "execute_result"
    }
   ],
   "source": [
    "net_Y"
   ]
  },
  {
   "cell_type": "code",
   "execution_count": 162,
   "metadata": {
    "collapsed": false
   },
   "outputs": [
    {
     "name": "stdout",
     "output_type": "stream",
     "text": [
      "1400/1459 [===========================>..] - ETA: 0s\n",
      "0.255477692572\n"
     ]
    }
   ],
   "source": [
    "loss_and_metrics = model.evaluate(net_X, net_Y, batch_size=1400)\n",
    "print\n",
    "print loss_and_metrics\n"
   ]
  },
  {
   "cell_type": "code",
   "execution_count": 163,
   "metadata": {
    "collapsed": false
   },
   "outputs": [
    {
     "data": {
      "text/plain": [
       "0.52223392637036337"
      ]
     },
     "execution_count": 163,
     "metadata": {},
     "output_type": "execute_result"
    }
   ],
   "source": [
    "rmsle(model.predict(net_X),net_Y)"
   ]
  },
  {
   "cell_type": "code",
   "execution_count": 164,
   "metadata": {
    "collapsed": false
   },
   "outputs": [
    {
     "data": {
      "text/plain": [
       "array([[ 111505.8125  ],\n",
       "       [ 114372.40625 ],\n",
       "       [ 135272.703125],\n",
       "       ..., \n",
       "       [ 122023.859375],\n",
       "       [ 114579.171875],\n",
       "       [ 183963.8125  ]], dtype=float32)"
      ]
     },
     "execution_count": 164,
     "metadata": {},
     "output_type": "execute_result"
    }
   ],
   "source": [
    "model.predict(net_X)"
   ]
  },
  {
   "cell_type": "code",
   "execution_count": 165,
   "metadata": {
    "collapsed": false
   },
   "outputs": [
    {
     "data": {
      "text/plain": [
       "array([ 208500.,  181500.,  223500., ...,  210000.,  266500.,  142125.])"
      ]
     },
     "execution_count": 165,
     "metadata": {},
     "output_type": "execute_result"
    }
   ],
   "source": [
    "net_Y"
   ]
  },
  {
   "cell_type": "code",
   "execution_count": 166,
   "metadata": {
    "collapsed": false
   },
   "outputs": [],
   "source": [
    "makeSubmission(model.predict(net_X),test)"
   ]
  },
  {
   "cell_type": "code",
   "execution_count": null,
   "metadata": {
    "collapsed": true
   },
   "outputs": [],
   "source": []
  }
 ],
 "metadata": {
  "anaconda-cloud": {},
  "kernelspec": {
   "display_name": "Python [Root]",
   "language": "python",
   "name": "Python [Root]"
  },
  "language_info": {
   "codemirror_mode": {
    "name": "ipython",
    "version": 2
   },
   "file_extension": ".py",
   "mimetype": "text/x-python",
   "name": "python",
   "nbconvert_exporter": "python",
   "pygments_lexer": "ipython2",
   "version": "2.7.12"
  }
 },
 "nbformat": 4,
 "nbformat_minor": 0
}
