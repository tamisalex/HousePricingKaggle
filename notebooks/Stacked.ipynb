{
 "cells": [
  {
   "cell_type": "markdown",
   "metadata": {},
   "source": [
    "## Import Libs"
   ]
  },
  {
   "cell_type": "code",
   "execution_count": 1,
   "metadata": {
    "collapsed": false
   },
   "outputs": [
    {
     "name": "stderr",
     "output_type": "stream",
     "text": [
      "Using TensorFlow backend.\n"
     ]
    }
   ],
   "source": [
    "import pandas as pd \n",
    "import matplotlib.pyplot as plt\n",
    "import numpy as np\n",
    "import sklearn as sk \n",
    "import seaborn as sns\n",
    "from sklearn.pipeline import make_pipeline, Pipeline\n",
    "from sklearn.linear_model import LinearRegression, LassoCV\n",
    "from sklearn.preprocessing import FunctionTransformer, LabelEncoder, MinMaxScaler, StandardScaler\n",
    "from sklearn.decomposition import PCA\n",
    "from sklearn.base import TransformerMixin\n",
    "from sklearn.grid_search import GridSearchCV\n",
    "from sklearn.ensemble import GradientBoostingRegressor,AdaBoostRegressor, RandomForestClassifier, RandomForestRegressor\n",
    "from sklearn.tree import DecisionTreeRegressor\n",
    "from sklearn.cross_validation import train_test_split, cross_val_score, KFold\n",
    "import xgboost as xgb\n",
    "from sklearn import metrics\n",
    "from scipy.stats import skew\n",
    "import keras\n",
    "from datetime import datetime\n",
    "\n",
    "from IPython.display import Audio\n",
    "%matplotlib inline"
   ]
  },
  {
   "cell_type": "markdown",
   "metadata": {},
   "source": [
    "## Helper Functions"
   ]
  },
  {
   "cell_type": "code",
   "execution_count": 2,
   "metadata": {
    "collapsed": false
   },
   "outputs": [],
   "source": [
    "def convertNA(value):\n",
    "    try:\n",
    "        if np.isnan(value):\n",
    "            return \"None\"\n",
    "        else:\n",
    "            return value\n",
    "    except:\n",
    "        return value"
   ]
  },
  {
   "cell_type": "code",
   "execution_count": 3,
   "metadata": {
    "collapsed": true
   },
   "outputs": [],
   "source": [
    "def makeSubmission(subType,predictions,testDF):\n",
    "    submission = pd.DataFrame()\n",
    "    submission[\"Id\"] = testDF[\"Id\"]\n",
    "    submission[\"SalePrice\"] = predictions\n",
    "    submission.to_csv(\"../assets/submission_\"+subType+\"_\"+ datetime.now().strftime(\"%Y%m%d-%H%M%S\") +\".csv\", index=False)"
   ]
  },
  {
   "cell_type": "code",
   "execution_count": 4,
   "metadata": {
    "collapsed": false
   },
   "outputs": [],
   "source": [
    "def rmsle(y_predict,y_actual):\n",
    "    return np.sqrt(np.mean(np.power(np.log1p(y_predict) - np.log1p(y_actual), 2)))"
   ]
  },
  {
   "cell_type": "markdown",
   "metadata": {},
   "source": [
    "## Read, Clean, Create Dummies"
   ]
  },
  {
   "cell_type": "code",
   "execution_count": 5,
   "metadata": {
    "collapsed": false
   },
   "outputs": [],
   "source": [
    "train  = pd.read_csv(\"../assets/train.csv\")\n",
    "test = pd.read_csv(\"../assets/test.csv\")\n",
    "\n",
    "all_data = pd.concat((train.loc[:,'MSSubClass':'SaleCondition'],\n",
    "                      test.loc[:,'MSSubClass':'SaleCondition']))\n",
    "\n",
    "categories = [u\"Alley\",\"Fence\",\"PoolQC\",\"GarageCond\",\"GarageQual\",\"GarageFinish\",\"MiscFeature\",\"GarageType\",\"FireplaceQu\",\"BsmtFinType2\",\"BsmtFinType1\",\"BsmtCond\",\"BsmtQual\"]\n",
    "for column in categories:\n",
    "    all_data[column] = all_data[column].apply(convertNA)\n",
    "\n",
    "all_data.fillna(all_data.mean(),inplace=True)\n",
    "\n",
    "all_data = pd.get_dummies(all_data)\n",
    "\n",
    "X = all_data.iloc[:1460,:]\n",
    "X_test = all_data.iloc[1460:,:]\n",
    "y = train[\"SalePrice\"]"
   ]
  },
  {
   "cell_type": "markdown",
   "metadata": {},
   "source": [
    "## Create Functions for Each Model Type"
   ]
  },
  {
   "cell_type": "markdown",
   "metadata": {},
   "source": [
    "### Random Forest"
   ]
  },
  {
   "cell_type": "code",
   "execution_count": null,
   "metadata": {
    "collapsed": true
   },
   "outputs": [],
   "source": [
    "def runRFModel(X,y,X_test):\n",
    "    cv = KFold(len(y),shuffle=False)\n",
    "    rf = RandomForestRegressor(random_state=5)\n",
    "    rfScore = cross_val_score(rf,X,y,cv=cv, n_jobs=-1)\n",
    "    model = rf.fit(X,y)\n",
    "\n",
    "    predictions =  model.predict(X)\n",
    "    print \"Score: \", metrics.r2_score(y,predictions)\n",
    "    print \"RMSLE: \", rmsle(y,predictions)\n",
    "\n",
    "    return predictions,model.predict(X_test)\n",
    "    "
   ]
  },
  {
   "cell_type": "markdown",
   "metadata": {},
   "source": [
    "### XGBoost"
   ]
  },
  {
   "cell_type": "code",
   "execution_count": null,
   "metadata": {
    "collapsed": true
   },
   "outputs": [],
   "source": [
    "def modelfit(alg, X, X_test, y, useTrainCV=True, cv_folds=5, early_stopping_rounds=50):\n",
    "\n",
    "    if useTrainCV:\n",
    "        xgb_param = alg.get_xgb_params()\n",
    "        xgtrain = xgb.DMatrix(X.values, label=y.values)\n",
    "        cvresult = xgb.cv(xgb_param, xgtrain, num_boost_round=alg.get_params()['n_estimators'], nfold=cv_folds,\n",
    "            metrics='rmse', early_stopping_rounds=early_stopping_rounds)\n",
    "        alg.set_params(n_estimators=cvresult.shape[0])\n",
    "    \n",
    "    #Fit the algorithm on the data\n",
    "    alg.fit(X, y,eval_metric='rmse')\n",
    "        \n",
    "    #Predict training set:\n",
    "    dtrain_predictions = alg.predict(X)\n",
    "    dtest_predictions = alg.predict(X_test)\n",
    "    \n",
    "    #dtrain_predprob = alg.predict_proba(dtrain[predictors])[:,1]\n",
    "    #Print model report:\n",
    "    #print \"\\nModel Report\"\n",
    "    #print \"Accuracy : %.4g\" % metrics.accuracy_score(dtrain['SalePrice'].values.astype(float), dtrain_predictions.astype(float))\n",
    "    #print \"AUC Score (Train): %f\" % metrics.roc_auc_score(dtrain['SalePrice'], dtrain_predprob)\n",
    "    #print \"Score: \", metrics.r2_score(y,dtrain_predictions)\n",
    "    #print \"RMSLE: \", rmsle(y,dtrain_predictions)\n",
    "    #feat_imp = pd.Series(alg.booster().get_fscore()).sort_values(ascending=False)\n",
    "    #feat_imp.plot(kind='bar', title='Feature Importances')\n",
    "    #plt.ylabel('Feature Importance Score')\n"
   ]
  },
  {
   "cell_type": "code",
   "execution_count": null,
   "metadata": {
    "collapsed": false
   },
   "outputs": [],
   "source": [
    "def runXGB(X,y,X_test):\n",
    "    xgb1 = xgb.XGBRegressor(\n",
    "     learning_rate =0.01,\n",
    "     n_estimators=1000,\n",
    "     max_depth=6,\n",
    "     min_child_weight=3,\n",
    "     gamma=0,\n",
    "     subsample=0.65,\n",
    "     colsample_bytree=0.65,\n",
    "     objective= 'reg:linear',\n",
    "     nthread=4,\n",
    "     scale_pos_weight=1,\n",
    "     reg_alpha= 1e-05,\n",
    "     seed=27)\n",
    "    model = modelfit(xgb1, X, X_test, y)\n",
    "\n",
    "    predictions =  xgb1.predict(X)\n",
    "    print \"Score: \", metrics.r2_score(y,predictions)\n",
    "    print \"RMSLE: \", rmsle(y,predictions)\n",
    "\n",
    "    return predictions, xgb1.predict(X_test)"
   ]
  },
  {
   "cell_type": "markdown",
   "metadata": {},
   "source": [
    "### Linear Regression (Lasso)"
   ]
  },
  {
   "cell_type": "code",
   "execution_count": null,
   "metadata": {
    "collapsed": false
   },
   "outputs": [],
   "source": [
    "def runLinReg(X,y,X_test):\n",
    "    #log transform the target:\n",
    "#     y = np.log1p(y)\n",
    "\n",
    "    #log transform skewed numeric features:\n",
    "#     numeric_feats = X.dtypes[X.dtypes != \"object\"].index\n",
    "\n",
    "#     skewed_feats = X[numeric_feats].apply(lambda x: skew(x.dropna())) #compute skewness\n",
    "#     skewed_feats = skewed_feats[skewed_feats > 0.75]\n",
    "#     skewed_feats = skewed_feats.index\n",
    "    \n",
    "#     skewed_feats_test = X_test[numeric_feats].apply(lambda x: skew(x.dropna())) #compute skewness\n",
    "#     skewed_feats_test = skewed_feats_test[skewed_feats_test > 0.75]\n",
    "#     skewed_feats_test = skewed_feats_test.index\n",
    "\n",
    "#     X[skewed_feats] = np.log1p(X[skewed_feats])\n",
    "#     X_test[skewed_feats_test] = np.log1p(X_test[skewed_feats_test])\n",
    "    \n",
    "    model_lasso = LassoCV(cv=1000,alphas = [100,10,1, 0.1, 0.001, 0.0005], max_iter = 50000, verbose = 1, n_jobs=-2).fit(X, y)\n",
    "    \n",
    "    predictions =  model_lasso.predict(X)\n",
    "    print \"Score: \", metrics.r2_score(y,predictions)\n",
    "    print \"RMSLE: \", rmsle(y,predictions)\n",
    "\n",
    "    return predictions, model_lasso.predict(X_test)"
   ]
  },
  {
   "cell_type": "markdown",
   "metadata": {},
   "source": [
    "## Build the models and make predictions"
   ]
  },
  {
   "cell_type": "code",
   "execution_count": null,
   "metadata": {
    "collapsed": false
   },
   "outputs": [],
   "source": [
    "rf_predictions,rf_predictions_test = runRFModel(X,y,X_test)\n",
    "Audio(url=\"../assets/beep-09.mp3\",autoplay=True)"
   ]
  },
  {
   "cell_type": "code",
   "execution_count": null,
   "metadata": {
    "collapsed": false
   },
   "outputs": [],
   "source": [
    "xgb_predictions,xgb_predictions_test = runXGB(X,y,X_test)\n",
    "Audio(url=\"../assets/beep-09.mp3\",autoplay=True)"
   ]
  },
  {
   "cell_type": "code",
   "execution_count": null,
   "metadata": {
    "collapsed": false,
    "scrolled": false
   },
   "outputs": [],
   "source": [
    "lr_predictions,lr_predictions_test = runLinReg(X,y,X_test)\n",
    "Audio(url=\"../assets/beep-09.mp3\",autoplay=True)"
   ]
  },
  {
   "cell_type": "markdown",
   "metadata": {},
   "source": [
    "## Save Predictions"
   ]
  },
  {
   "cell_type": "code",
   "execution_count": null,
   "metadata": {
    "collapsed": false
   },
   "outputs": [],
   "source": [
    "level1 = pd.DataFrame()\n",
    "# level1[\"rf\"] = np.log1p(rf_predictions)\n",
    "# level1[\"xgb\"] = np.log1p(xgb_predictions)\n",
    "level1[\"rf\"] = rf_predictions\n",
    "level1[\"xgb\"] = xgb_predictions\n",
    "level1[\"lr\"] = lr_predictions\n",
    "level1[\"y\"] = y\n",
    "level1.head()"
   ]
  },
  {
   "cell_type": "code",
   "execution_count": null,
   "metadata": {
    "collapsed": false
   },
   "outputs": [],
   "source": [
    "level1_test = pd.DataFrame()\n",
    "# level1_test[\"rf\"] = np.log1p(rf_predictions_test)\n",
    "# level1_test[\"xgb\"] = np.log1p(xgb_predictions_test)\n",
    "level1_test[\"rf\"] = rf_predictions_test\n",
    "level1_test[\"xgb\"] = xgb_predictions_test\n",
    "level1_test[\"lr\"] = lr_predictions_test\n",
    "level1_test.head()"
   ]
  },
  {
   "cell_type": "code",
   "execution_count": null,
   "metadata": {
    "collapsed": false
   },
   "outputs": [],
   "source": [
    "level1.to_csv(\"../assets/Level1.csv\",index=False)\n",
    "level1_test.to_csv(\"../assets/Level1_test.csv\",index=False)"
   ]
  },
  {
   "cell_type": "code",
   "execution_count": 6,
   "metadata": {
    "collapsed": false
   },
   "outputs": [
    {
     "data": {
      "text/html": [
       "<div>\n",
       "<table border=\"1\" class=\"dataframe\">\n",
       "  <thead>\n",
       "    <tr style=\"text-align: right;\">\n",
       "      <th></th>\n",
       "      <th>rf</th>\n",
       "      <th>xgb</th>\n",
       "      <th>lr</th>\n",
       "      <th>y</th>\n",
       "    </tr>\n",
       "  </thead>\n",
       "  <tbody>\n",
       "    <tr>\n",
       "      <th>0</th>\n",
       "      <td>208400.0</td>\n",
       "      <td>204554.875000</td>\n",
       "      <td>207908.910335</td>\n",
       "      <td>208500</td>\n",
       "    </tr>\n",
       "    <tr>\n",
       "      <th>1</th>\n",
       "      <td>173000.0</td>\n",
       "      <td>176239.093750</td>\n",
       "      <td>197313.567788</td>\n",
       "      <td>181500</td>\n",
       "    </tr>\n",
       "    <tr>\n",
       "      <th>2</th>\n",
       "      <td>217000.0</td>\n",
       "      <td>214539.015625</td>\n",
       "      <td>212106.287983</td>\n",
       "      <td>223500</td>\n",
       "    </tr>\n",
       "    <tr>\n",
       "      <th>3</th>\n",
       "      <td>142400.0</td>\n",
       "      <td>153358.062500</td>\n",
       "      <td>180232.377505</td>\n",
       "      <td>140000</td>\n",
       "    </tr>\n",
       "    <tr>\n",
       "      <th>4</th>\n",
       "      <td>265309.0</td>\n",
       "      <td>272659.000000</td>\n",
       "      <td>298192.932965</td>\n",
       "      <td>250000</td>\n",
       "    </tr>\n",
       "  </tbody>\n",
       "</table>\n",
       "</div>"
      ],
      "text/plain": [
       "         rf            xgb             lr       y\n",
       "0  208400.0  204554.875000  207908.910335  208500\n",
       "1  173000.0  176239.093750  197313.567788  181500\n",
       "2  217000.0  214539.015625  212106.287983  223500\n",
       "3  142400.0  153358.062500  180232.377505  140000\n",
       "4  265309.0  272659.000000  298192.932965  250000"
      ]
     },
     "execution_count": 6,
     "metadata": {},
     "output_type": "execute_result"
    }
   ],
   "source": [
    "neural = pd.read_csv(\"../assets/Level1.csv\")\n",
    "neural.head(5)"
   ]
  },
  {
   "cell_type": "code",
   "execution_count": 7,
   "metadata": {
    "collapsed": false,
    "scrolled": true
   },
   "outputs": [
    {
     "data": {
      "text/html": [
       "<div>\n",
       "<table border=\"1\" class=\"dataframe\">\n",
       "  <thead>\n",
       "    <tr style=\"text-align: right;\">\n",
       "      <th></th>\n",
       "      <th>rf</th>\n",
       "      <th>xgb</th>\n",
       "      <th>lr</th>\n",
       "    </tr>\n",
       "  </thead>\n",
       "  <tbody>\n",
       "    <tr>\n",
       "      <th>0</th>\n",
       "      <td>126480.0</td>\n",
       "      <td>127040.242188</td>\n",
       "      <td>116297.300806</td>\n",
       "    </tr>\n",
       "    <tr>\n",
       "      <th>1</th>\n",
       "      <td>151420.0</td>\n",
       "      <td>156986.437500</td>\n",
       "      <td>147684.873639</td>\n",
       "    </tr>\n",
       "    <tr>\n",
       "      <th>2</th>\n",
       "      <td>183290.0</td>\n",
       "      <td>183298.046875</td>\n",
       "      <td>182011.842679</td>\n",
       "    </tr>\n",
       "    <tr>\n",
       "      <th>3</th>\n",
       "      <td>184283.2</td>\n",
       "      <td>190673.109375</td>\n",
       "      <td>194552.542945</td>\n",
       "    </tr>\n",
       "    <tr>\n",
       "      <th>4</th>\n",
       "      <td>197240.0</td>\n",
       "      <td>189672.546875</td>\n",
       "      <td>207450.365053</td>\n",
       "    </tr>\n",
       "  </tbody>\n",
       "</table>\n",
       "</div>"
      ],
      "text/plain": [
       "         rf            xgb             lr\n",
       "0  126480.0  127040.242188  116297.300806\n",
       "1  151420.0  156986.437500  147684.873639\n",
       "2  183290.0  183298.046875  182011.842679\n",
       "3  184283.2  190673.109375  194552.542945\n",
       "4  197240.0  189672.546875  207450.365053"
      ]
     },
     "execution_count": 7,
     "metadata": {},
     "output_type": "execute_result"
    }
   ],
   "source": [
    "neural_test = pd.read_csv(\"../assets/Level1_test.csv\")\n",
    "neural_test.head(5)"
   ]
  },
  {
   "cell_type": "code",
   "execution_count": 8,
   "metadata": {
    "collapsed": false
   },
   "outputs": [],
   "source": [
    "net_X = neural.values[:,0:3]\n",
    "net_Y = neural.values[:,3]"
   ]
  },
  {
   "cell_type": "markdown",
   "metadata": {},
   "source": [
    "## Construct Neural Net"
   ]
  },
  {
   "cell_type": "code",
   "execution_count": 17,
   "metadata": {
    "collapsed": false
   },
   "outputs": [],
   "source": [
    "from keras.models import Sequential\n",
    "from keras.layers import Dense\n",
    "from keras.wrappers.scikit_learn import KerasRegressor\n",
    "\n",
    "# define base mode\n",
    "def baseline_model_mse():\n",
    "    # create model\n",
    "    model = Sequential()\n",
    "    model.add(Dense(3, input_dim=3, init='normal', activation='relu'))\n",
    "    #model.add(Dense(2, input_dim=2, init='normal', activation='relu'))\n",
    "    model.add(Dense(1, init='normal'))\n",
    "    # Compile model\n",
    "    model.compile(loss='mse', optimizer='adam')\n",
    "    return model\n",
    "\n",
    "def baseline_model_msle():\n",
    "    # create model\n",
    "    model = Sequential()\n",
    "    model.add(Dense(3, input_dim=3, init='normal', activation='relu'))\n",
    "    #model.add(Dense(2, input_dim=2, init='normal', activation='relu'))\n",
    "    model.add(Dense(1, init='normal'))\n",
    "    # Compile model\n",
    "    model.compile(loss='msle', optimizer='adam')\n",
    "    return model\n",
    "\n",
    "\n",
    "def deeper_model():\n",
    "    # create model\n",
    "    model = Sequential()\n",
    "    model.add(Dense(3, input_dim=3, init='normal', activation='relu'))\n",
    "    model.add(Dense(3, init='normal', activation='relu'))\n",
    "    model.add(Dense(1, init='normal'))\n",
    "    # Compile model\n",
    "    model.compile(loss='mse', optimizer='adam')\n",
    "    return model\n",
    "\n",
    "def wider_model():\n",
    "    # create model\n",
    "    model = Sequential()\n",
    "    model.add(Dense(6, input_dim=3, init='normal', activation='relu'))\n",
    "    #model.add(Dense(2, input_dim=2, init='normal', activation='relu'))\n",
    "    model.add(Dense(1, init='normal'))\n",
    "    # Compile model\n",
    "    model.compile(loss='mse', optimizer='adam')\n",
    "    return model"
   ]
  },
  {
   "cell_type": "code",
   "execution_count": 10,
   "metadata": {
    "collapsed": false
   },
   "outputs": [],
   "source": [
    "# fix random seed for reproducibility\n",
    "seed = 7\n",
    "np.random.seed(seed)"
   ]
  },
  {
   "cell_type": "markdown",
   "metadata": {},
   "source": [
    "## NN Optimization"
   ]
  },
  {
   "cell_type": "markdown",
   "metadata": {},
   "source": [
    "### Base + MSE"
   ]
  },
  {
   "cell_type": "code",
   "execution_count": 11,
   "metadata": {
    "collapsed": false
   },
   "outputs": [
    {
     "name": "stdout",
     "output_type": "stream",
     "text": [
      "Results: 16024461638.59 (19626944334.10) MSE\n"
     ]
    },
    {
     "data": {
      "text/html": [
       "\n",
       "                <audio controls=\"controls\" autoplay=\"autoplay\">\n",
       "                    <source src=\"../assets/beep-09.mp3\" type=\"audio/mpeg\" />\n",
       "                    Your browser does not support the audio element.\n",
       "                </audio>\n",
       "              "
      ],
      "text/plain": [
       "<IPython.lib.display.Audio object>"
      ]
     },
     "execution_count": 11,
     "metadata": {},
     "output_type": "execute_result"
    }
   ],
   "source": [
    "estimators = []\n",
    "#estimators.append(('standardize', StandardScaler()))\n",
    "estimators.append(('mlp', KerasRegressor(build_fn=baseline_model_mse, nb_epoch=150, batch_size=5, verbose=0)))\n",
    "pipeline = Pipeline(estimators)\n",
    "kfold = KFold(n=len(net_X), n_folds=10, random_state=seed)\n",
    "results = cross_val_score(pipeline, net_X, net_Y, cv=kfold,n_jobs=1)\n",
    "print(\"Results: %.2f (%.2f) MSE\" % (results.mean(), results.std()))\n",
    "Audio(url=\"../assets/beep-09.mp3\",autoplay=True)\n"
   ]
  },
  {
   "cell_type": "markdown",
   "metadata": {},
   "source": [
    "### Base + MSLE"
   ]
  },
  {
   "cell_type": "code",
   "execution_count": 13,
   "metadata": {
    "collapsed": false,
    "scrolled": true
   },
   "outputs": [
    {
     "name": "stdout",
     "output_type": "stream",
     "text": [
      "Results: 43.53 (66.49) MSE\n"
     ]
    },
    {
     "data": {
      "text/html": [
       "\n",
       "                <audio controls=\"controls\" autoplay=\"autoplay\">\n",
       "                    <source src=\"../assets/beep-09.mp3\" type=\"audio/mpeg\" />\n",
       "                    Your browser does not support the audio element.\n",
       "                </audio>\n",
       "              "
      ],
      "text/plain": [
       "<IPython.lib.display.Audio object>"
      ]
     },
     "execution_count": 13,
     "metadata": {},
     "output_type": "execute_result"
    }
   ],
   "source": [
    "estimators = []\n",
    "#estimators.append(('standardize', StandardScaler()))\n",
    "estimators.append(('mlp', KerasRegressor(build_fn=baseline_model_msle, nb_epoch=150, batch_size=5, verbose=0)))\n",
    "pipeline = Pipeline(estimators)\n",
    "kfold = KFold(n=len(net_X), n_folds=10, random_state=seed)\n",
    "results = cross_val_score(pipeline, net_X, net_Y, cv=kfold,n_jobs=1)\n",
    "print(\"Results: %.2f (%.2f) MSE\" % (results.mean(), results.std()))\n",
    "Audio(url=\"../assets/beep-09.mp3\",autoplay=True)"
   ]
  },
  {
   "cell_type": "code",
   "execution_count": null,
   "metadata": {
    "collapsed": true
   },
   "outputs": [],
   "source": [
    "print \"Base\", np.sqrt(results.mean())"
   ]
  },
  {
   "cell_type": "markdown",
   "metadata": {},
   "source": [
    "### Standardized"
   ]
  },
  {
   "cell_type": "code",
   "execution_count": 14,
   "metadata": {
    "collapsed": false
   },
   "outputs": [
    {
     "name": "stdout",
     "output_type": "stream",
     "text": [
      "Results: 37356689387.66 (3530684844.23) MSE\n"
     ]
    }
   ],
   "source": [
    "estimators = []\n",
    "estimators.append(('standardize', StandardScaler()))\n",
    "estimators.append(('mlp', KerasRegressor(build_fn=baseline_model_mse, nb_epoch=150, batch_size=5, verbose=0)))\n",
    "pipeline = Pipeline(estimators)\n",
    "kfold = KFold(n=len(net_X), n_folds=10, random_state=seed)\n",
    "results = cross_val_score(pipeline, net_X, net_Y, cv=kfold,n_jobs=1)\n",
    "print(\"Results: %.2f (%.2f) MSE\" % (results.mean(), results.std()))\n",
    "standardized = np.sqrt(results.mean())\n",
    "Audio(url=\"../assets/beep-09.mp3\",autoplay=True)"
   ]
  },
  {
   "cell_type": "code",
   "execution_count": 16,
   "metadata": {
    "collapsed": false
   },
   "outputs": [
    {
     "data": {
      "text/plain": [
       "-21332227749.070004"
      ]
     },
     "execution_count": 16,
     "metadata": {},
     "output_type": "execute_result"
    }
   ],
   "source": [
    "print \"Improvement Over Base\", base - wider"
   ]
  },
  {
   "cell_type": "markdown",
   "metadata": {},
   "source": [
    "### Deeper"
   ]
  },
  {
   "cell_type": "code",
   "execution_count": 18,
   "metadata": {
    "collapsed": false
   },
   "outputs": [
    {
     "name": "stdout",
     "output_type": "stream",
     "text": [
      "Results: 3562899489.32 (10506171269.32) MSE\n"
     ]
    }
   ],
   "source": [
    "estimators = []\n",
    "estimators.append(('mlp', KerasRegressor(build_fn=deeper_model, nb_epoch=150, batch_size=5, verbose=0)))\n",
    "pipeline = Pipeline(estimators)\n",
    "kfold = KFold(n=len(net_X), n_folds=10, random_state=seed)\n",
    "results = cross_val_score(pipeline, net_X, net_Y, cv=kfold,n_jobs=1)\n",
    "print(\"Results: %.2f (%.2f) MSE\" % (results.mean(), results.std()))\n",
    "deeper = np.sqrt(results.mean())\n",
    "Audio(url=\"../assets/beep-09.mp3\",autoplay=True)"
   ]
  },
  {
   "cell_type": "code",
   "execution_count": 20,
   "metadata": {
    "collapsed": false
   },
   "outputs": [
    {
     "data": {
      "text/plain": [
       "111631.36722834672"
      ]
     },
     "execution_count": 20,
     "metadata": {},
     "output_type": "execute_result"
    }
   ],
   "source": [
    "print \"Improvement Over Base\", base - deeper"
   ]
  },
  {
   "cell_type": "markdown",
   "metadata": {},
   "source": [
    "### Wider"
   ]
  },
  {
   "cell_type": "code",
   "execution_count": null,
   "metadata": {
    "collapsed": true
   },
   "outputs": [],
   "source": [
    "estimators = []\n",
    "estimators.append(('mlp', KerasRegressor(build_fn=wider_model, nb_epoch=150, batch_size=5, verbose=0)))\n",
    "pipeline = Pipeline(estimators)\n",
    "kfold = KFold(n=len(net_X), n_folds=10, random_state=seed)\n",
    "results = cross_val_score(pipeline, net_X, net_Y, cv=kfold,n_jobs=1)\n",
    "print(\"Results: %.2f (%.2f) MSE\" % (results.mean(), results.std()))\n",
    "wider = np.sqrt(results.mean())\n",
    "Audio(url=\"../assets/beep-09.mp3\",autoplay=True)"
   ]
  },
  {
   "cell_type": "code",
   "execution_count": null,
   "metadata": {
    "collapsed": true
   },
   "outputs": [],
   "source": [
    "print \"Improvement Over Base\", base - wider"
   ]
  },
  {
   "cell_type": "markdown",
   "metadata": {},
   "source": [
    "## Train  Optimized Neural Net"
   ]
  },
  {
   "cell_type": "code",
   "execution_count": null,
   "metadata": {
    "collapsed": false,
    "scrolled": false
   },
   "outputs": [],
   "source": [
    "# scale = StandardScaler()\n",
    "# net_X = scale.fit_transform(net_X)\n",
    "\n",
    "nnRegressor = KerasRegressor(build_fn=baseline_model, nb_epoch=200, batch_size=5,verbose=0)\n",
    "\n",
    "nnRegressor.fit(net_X,net_Y)\n",
    "outsample_predictions = nnRegressor.predict(neural_test.values)\n",
    "insample_predictions  = clf.predict(net_X)\n",
    "\n",
    "Audio(url=\"../assets/beep-09.mp3\",autoplay=True)"
   ]
  },
  {
   "cell_type": "markdown",
   "metadata": {},
   "source": [
    "## NN Evaluation"
   ]
  },
  {
   "cell_type": "code",
   "execution_count": null,
   "metadata": {
    "collapsed": false,
    "scrolled": false
   },
   "outputs": [],
   "source": [
    "nnRegressor.score(net_X,net_Y)"
   ]
  },
  {
   "cell_type": "code",
   "execution_count": null,
   "metadata": {
    "collapsed": false
   },
   "outputs": [],
   "source": [
    "flat_insample_predictions = nnRegressor.predict(net_X).flatten()"
   ]
  },
  {
   "cell_type": "code",
   "execution_count": null,
   "metadata": {
    "collapsed": false
   },
   "outputs": [],
   "source": [
    "rmsle(flat_insample_predictions,net_Y)"
   ]
  },
  {
   "cell_type": "code",
   "execution_count": null,
   "metadata": {
    "collapsed": false,
    "scrolled": true
   },
   "outputs": [],
   "source": [
    "pd.DataFrame({\"y_hat\":flat_insample_predictions,\"y_actual\":net_Y})"
   ]
  },
  {
   "cell_type": "code",
   "execution_count": 15,
   "metadata": {
    "collapsed": false
   },
   "outputs": [
    {
     "ename": "NameError",
     "evalue": "name 'flat_insample_predictions' is not defined",
     "output_type": "error",
     "traceback": [
      "\u001b[0;31m---------------------------------------------------------------------------\u001b[0m",
      "\u001b[0;31mNameError\u001b[0m                                 Traceback (most recent call last)",
      "\u001b[0;32m<ipython-input-15-74044eee827e>\u001b[0m in \u001b[0;36m<module>\u001b[0;34m()\u001b[0m\n\u001b[0;32m----> 1\u001b[0;31m \u001b[0mplt\u001b[0m\u001b[0;34m.\u001b[0m\u001b[0mplot\u001b[0m\u001b[0;34m(\u001b[0m\u001b[0mflat_insample_predictions\u001b[0m\u001b[0;34m,\u001b[0m\u001b[0mnet_Y\u001b[0m\u001b[0;34m)\u001b[0m\u001b[0;34m\u001b[0m\u001b[0m\n\u001b[0m",
      "\u001b[0;31mNameError\u001b[0m: name 'flat_insample_predictions' is not defined"
     ]
    }
   ],
   "source": [
    "plt.plot(flat_insample_predictions,net_Y)"
   ]
  },
  {
   "cell_type": "markdown",
   "metadata": {},
   "source": [
    "## Make Submission File"
   ]
  },
  {
   "cell_type": "code",
   "execution_count": null,
   "metadata": {
    "collapsed": false
   },
   "outputs": [],
   "source": [
    "makeSubmission(\"lasso\",neural_test.iloc[:,2],test)"
   ]
  }
 ],
 "metadata": {
  "anaconda-cloud": {},
  "kernelspec": {
   "display_name": "Python [Root]",
   "language": "python",
   "name": "Python [Root]"
  },
  "language_info": {
   "codemirror_mode": {
    "name": "ipython",
    "version": 2
   },
   "file_extension": ".py",
   "mimetype": "text/x-python",
   "name": "python",
   "nbconvert_exporter": "python",
   "pygments_lexer": "ipython2",
   "version": "2.7.12"
  }
 },
 "nbformat": 4,
 "nbformat_minor": 0
}
