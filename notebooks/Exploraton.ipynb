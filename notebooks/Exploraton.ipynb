{
 "cells": [
  {
   "cell_type": "code",
   "execution_count": 66,
   "metadata": {
    "collapsed": false
   },
   "outputs": [],
   "source": [
    "import pandas as pd \n",
    "import matplotlib.pyplot as plt\n",
    "import numpy as np\n",
    "import sklearn as sk \n",
    "import sqlalchemy\n",
    "import seaborn as sns\n",
    "from sklearn.pipeline import make_pipeline, Pipeline\n",
    "from sklearn.linear_model import LinearRegression\n",
    "from sklearn.preprocessing import FunctionTransformer, LabelEncoder, MinMaxScaler, StandardScaler\n",
    "from sklearn.decomposition import PCA\n",
    "from sklearn.base import TransformerMixin\n",
    "from sklearn.grid_search import GridSearchCV\n",
    "from sklearn.ensemble import GradientBoostingRegressor,AdaBoostRegressor, RandomForestClassifier, RandomForestRegressor\n",
    "from sklearn.tree import DecisionTreeRegressor\n",
    "from sklearn.cross_validation import train_test_split, cross_val_score, KFold\n",
    "\n",
    "%matplotlib inline"
   ]
  },
  {
   "cell_type": "code",
   "execution_count": 67,
   "metadata": {
    "collapsed": false
   },
   "outputs": [],
   "source": [
    "def convertNA(alleys):\n",
    "    try:\n",
    "        if np.isnan(alleys):\n",
    "            #print \"Yes\"\n",
    "            return \"None\"\n",
    "        else:\n",
    "            #print \"No\"\n",
    "            return alleys\n",
    "    except:\n",
    "        #print \"No\"\n",
    "        return alleys"
   ]
  },
  {
   "cell_type": "code",
   "execution_count": 68,
   "metadata": {
    "collapsed": false
   },
   "outputs": [],
   "source": [
    "train  = pd.read_csv(\"../assets/train.csv\")\n",
    "test = pd.read_csv(\"../assets/test.csv\")\n",
    "\n",
    "del train[\"Id\"]\n",
    "testids = test[\"Id\"]\n",
    "del test[\"Id\"]\n",
    "\n",
    "fixColumns = [\"Alley\",\"Fence\",\"PoolQC\",\"GarageCond\",\"GarageQual\",\"GarageFinish\",\"MiscFeature\",\"GarageType\",\"FireplaceQu\",\"BsmtFinType2\",\"BsmtFinType1\",\"BsmtCond\",\"BsmtQual\"]\n",
    "for column in fixColumns:\n",
    "    train[column] = train[column].apply(convertNA)\n",
    "for column in fixColumns:\n",
    "    test[column] = test[column].apply(convertNA)\n",
    "\n",
    "#train.dropna(inplace=True)\n",
    "#test.dropna(inplace=True)\n",
    "\n",
    "train.fillna(train.median(),inplace=True)\n",
    "test.fillna(test.median(),inplace=True)\n",
    "\n",
    "y = train[\"SalePrice\"]\n",
    "del train[\"SalePrice\"]\n",
    "X = train\n",
    "X_test = test\n"
   ]
  },
  {
   "cell_type": "code",
   "execution_count": 69,
   "metadata": {
    "collapsed": true
   },
   "outputs": [],
   "source": [
    "class MultiColumnLabelEncoder(TransformerMixin):\n",
    "    def __init__(self,columns = None):\n",
    "        self.columns = columns # array of column names to encode\n",
    "\n",
    "    def fit(self,X,y=None):\n",
    "        return self # not relevant here\n",
    "\n",
    "    def transform(self,X):\n",
    "        '''\n",
    "        Transforms columns of X specified in self.columns using\n",
    "        LabelEncoder(). If no columns specified, transforms all\n",
    "        columns in X.\n",
    "        '''\n",
    "        output = pd.DataFrame(X,columns=self.columns)\n",
    "        #print output.head()\n",
    "        if self.columns is not None:\n",
    "            for col in self.columns:\n",
    "                output[col] = LabelEncoder().fit_transform(output[col])\n",
    "        else:\n",
    "            for colname,col in output.iteritems():\n",
    "                if(output[colname].dtype == \"object\"):\n",
    "                    output[colname] = LabelEncoder().fit_transform(col)\n",
    "                else:\n",
    "                    output[colname] = col\n",
    "        return output\n",
    "\n",
    "    def fit_transform(self,X,y=None):\n",
    "        return self.fit(X,y).transform(X)"
   ]
  },
  {
   "cell_type": "code",
   "execution_count": 70,
   "metadata": {
    "collapsed": false
   },
   "outputs": [],
   "source": [
    "mcle = MultiColumnLabelEncoder()\n",
    "#ss = StandardScaler()\n",
    "lr = LinearRegression()\n",
    "\n",
    "#pipe = Pipeline([('mcle',mcle),('ss', ss)])"
   ]
  },
  {
   "cell_type": "code",
   "execution_count": 71,
   "metadata": {
    "collapsed": false
   },
   "outputs": [
    {
     "data": {
      "text/plain": [
       "0.85276108667325767"
      ]
     },
     "execution_count": 71,
     "metadata": {},
     "output_type": "execute_result"
    }
   ],
   "source": [
    "output = mcle.fit_transform(X)\n",
    "#output\n",
    "#output = ss.fit_transform(output)\n",
    "model = lr.fit(output,y)\n",
    "predictions = model.predict(X)\n",
    "model.score(X,y)"
   ]
  },
  {
   "cell_type": "code",
   "execution_count": 72,
   "metadata": {
    "collapsed": true
   },
   "outputs": [],
   "source": [
    "ouput = mcle.fit_transform(X_test)"
   ]
  },
  {
   "cell_type": "code",
   "execution_count": 73,
   "metadata": {
    "collapsed": false
   },
   "outputs": [],
   "source": [
    "dtr = DecisionTreeRegressor()\n",
    "model = dtr.fit(X,y)\n",
    "predictions = model.predict(ouput)"
   ]
  },
  {
   "cell_type": "code",
   "execution_count": 74,
   "metadata": {
    "collapsed": true
   },
   "outputs": [],
   "source": [
    "submission = pd.DataFrame()"
   ]
  },
  {
   "cell_type": "code",
   "execution_count": 75,
   "metadata": {
    "collapsed": false
   },
   "outputs": [],
   "source": [
    "submission[\"Id\"] = testids\n",
    "submission[\"SalePrice\"] = predictions"
   ]
  },
  {
   "cell_type": "code",
   "execution_count": 76,
   "metadata": {
    "collapsed": false
   },
   "outputs": [],
   "source": [
    "#submission.to_csv(\"../assets/submission.csv\", index=False)"
   ]
  },
  {
   "cell_type": "code",
   "execution_count": 77,
   "metadata": {
    "collapsed": false
   },
   "outputs": [
    {
     "data": {
      "text/plain": [
       "array([ 0.75770396,  0.76075465,  0.50867169])"
      ]
     },
     "execution_count": 77,
     "metadata": {},
     "output_type": "execute_result"
    }
   ],
   "source": [
    "cv = KFold(len(y),shuffle=False)\n",
    "\n",
    "dt = DecisionTreeRegressor(random_state=5)\n",
    "dtScore = cross_val_score(dt,X,y, cv=cv, n_jobs=-1)\n",
    "dtScore"
   ]
  },
  {
   "cell_type": "code",
   "execution_count": 78,
   "metadata": {
    "collapsed": false
   },
   "outputs": [
    {
     "data": {
      "text/plain": [
       "array([ 0.87069465,  0.83087723,  0.78898997])"
      ]
     },
     "execution_count": 78,
     "metadata": {},
     "output_type": "execute_result"
    }
   ],
   "source": [
    "rf = RandomForestRegressor(random_state=5)\n",
    "rfScore = cross_val_score(rf,X,y,cv=cv, n_jobs=-1)\n",
    "rfScore"
   ]
  },
  {
   "cell_type": "code",
   "execution_count": 79,
   "metadata": {
    "collapsed": false
   },
   "outputs": [
    {
     "data": {
      "text/plain": [
       "array([ 0.8489448 ,  0.80014323,  0.73189558])"
      ]
     },
     "execution_count": 79,
     "metadata": {},
     "output_type": "execute_result"
    }
   ],
   "source": [
    "ab = AdaBoostRegressor(random_state=5)\n",
    "abScore = cross_val_score(ab,X,y,cv=cv,n_jobs=-1)\n",
    "abScore"
   ]
  },
  {
   "cell_type": "code",
   "execution_count": 80,
   "metadata": {
    "collapsed": false
   },
   "outputs": [
    {
     "data": {
      "text/plain": [
       "array([ 0.8489448 ,  0.80014323,  0.73189558])"
      ]
     },
     "execution_count": 80,
     "metadata": {},
     "output_type": "execute_result"
    }
   ],
   "source": [
    "gb = GradientBoostingRegressor(random_state=5)\n",
    "gbScore = cross_val_score(ab,X,y,cv=cv,n_jobs=-1)\n",
    "gbScore"
   ]
  },
  {
   "cell_type": "code",
   "execution_count": 81,
   "metadata": {
    "collapsed": false
   },
   "outputs": [
    {
     "name": "stdout",
     "output_type": "stream",
     "text": [
      "Decision Tree Score: 0.675710\n",
      "Random Forest Score: 0.830187\n",
      "AdaBoost Score: 0.793661\n",
      "Gradient Boost Score: 0.793661\n"
     ]
    }
   ],
   "source": [
    "print \"Decision Tree Score: %f\" % dtScore.mean()\n",
    "print \"Random Forest Score: %f\" % rfScore.mean()\n",
    "print \"AdaBoost Score: %f\" % abScore.mean()\n",
    "print \"Gradient Boost Score: %f\" % gbScore.mean()"
   ]
  },
  {
   "cell_type": "markdown",
   "metadata": {},
   "source": [
    "### fillna median\n",
    "1. Decision Tree Score: 0.675710\n",
    "2. Random Forest Score: 0.830187\n",
    "3. AdaBoost Score: 0.793661\n",
    "4. Gradient Boost Score: 0.793661"
   ]
  },
  {
   "cell_type": "markdown",
   "metadata": {},
   "source": [
    "### fillna mean\n",
    "1. Decision Tree Score: 0.704135\n",
    "2. Random Forest Score: 0.840518\n",
    "3. AdaBoost Score: 0.795396\n",
    "4. Gradient Boost Score: 0.795396"
   ]
  },
  {
   "cell_type": "code",
   "execution_count": 82,
   "metadata": {
    "collapsed": true
   },
   "outputs": [],
   "source": [
    "model = rf.fit(X,y)\n",
    "predictions = model.predict(ouput)"
   ]
  },
  {
   "cell_type": "code",
   "execution_count": 83,
   "metadata": {
    "collapsed": false
   },
   "outputs": [],
   "source": [
    "submission[\"Id\"] = testids\n",
    "submission[\"SalePrice\"] = predictions"
   ]
  },
  {
   "cell_type": "code",
   "execution_count": 84,
   "metadata": {
    "collapsed": false
   },
   "outputs": [],
   "source": [
    "#submission.to_csv(\"../assets/submission.csv\", index=False)"
   ]
  },
  {
   "cell_type": "code",
   "execution_count": 101,
   "metadata": {
    "collapsed": false
   },
   "outputs": [],
   "source": [
    "PARAMETERS = {'max_depth':[1,2,3,4,5,6], 'max_features':range(4,20), 'max_leaf_nodes':range(9,20), 'min_samples_leaf':[1,2,3,4],'min_samples_split':range(4,20)}"
   ]
  },
  {
   "cell_type": "code",
   "execution_count": 102,
   "metadata": {
    "collapsed": true
   },
   "outputs": [],
   "source": [
    "SCORING = 'mean_squared_error'"
   ]
  },
  {
   "cell_type": "code",
   "execution_count": null,
   "metadata": {
    "collapsed": false
   },
   "outputs": [
    {
     "name": "stdout",
     "output_type": "stream",
     "text": [
      "Fitting 3 folds for each of 67584 candidates, totalling 202752 fits\n"
     ]
    },
    {
     "name": "stderr",
     "output_type": "stream",
     "text": [
      "[Parallel(n_jobs=-1)]: Done  76 tasks      | elapsed:    1.7s\n",
      "[Parallel(n_jobs=-1)]: Done 376 tasks      | elapsed:    7.6s\n",
      "[Parallel(n_jobs=-1)]: Done 876 tasks      | elapsed:   17.3s\n",
      "[Parallel(n_jobs=-1)]: Done 1576 tasks      | elapsed:   31.2s\n",
      "[Parallel(n_jobs=-1)]: Done 2476 tasks      | elapsed:   49.2s\n"
     ]
    }
   ],
   "source": [
    "model = DecisionTreeRegressor()\n",
    "clf = GridSearchCV(rf, PARAMETERS, scoring=SCORING, verbose=True, n_jobs=-1)\n",
    "clf.fit(X,y)\n",
    "\n",
    "print clf.best_estimator_\n",
    "print clf.best_score_\n",
    "print np.sqrt(-clf.best_score_)"
   ]
  },
  {
   "cell_type": "code",
   "execution_count": 96,
   "metadata": {
    "collapsed": true
   },
   "outputs": [],
   "source": [
    "rf = RandomForestRegressor(bootstrap=True, criterion='mse', max_depth=5,\n",
    "           max_features=4, max_leaf_nodes=9, min_samples_leaf=1,\n",
    "           min_samples_split=4, min_weight_fraction_leaf=0.0,\n",
    "           n_estimators=10, n_jobs=1, oob_score=False, random_state=5,\n",
    "           verbose=0, warm_start=False)"
   ]
  },
  {
   "cell_type": "code",
   "execution_count": 98,
   "metadata": {
    "collapsed": false
   },
   "outputs": [
    {
     "name": "stdout",
     "output_type": "stream",
     "text": [
      "0.731207727182\n"
     ]
    }
   ],
   "source": [
    "model = rf.fit(X,y)\n",
    "print model.score(X,y)\n",
    "predictions = model.predict(ouput)\n",
    "submission.to_csv(\"../assets/submission.csv\", index=False)"
   ]
  },
  {
   "cell_type": "code",
   "execution_count": null,
   "metadata": {
    "collapsed": true
   },
   "outputs": [],
   "source": []
  }
 ],
 "metadata": {
  "anaconda-cloud": {},
  "kernelspec": {
   "display_name": "Python [Root]",
   "language": "python",
   "name": "Python [Root]"
  },
  "language_info": {
   "codemirror_mode": {
    "name": "ipython",
    "version": 2
   },
   "file_extension": ".py",
   "mimetype": "text/x-python",
   "name": "python",
   "nbconvert_exporter": "python",
   "pygments_lexer": "ipython2",
   "version": "2.7.12"
  }
 },
 "nbformat": 4,
 "nbformat_minor": 0
}
